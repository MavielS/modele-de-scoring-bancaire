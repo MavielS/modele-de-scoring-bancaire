{
 "cells": [
  {
   "cell_type": "markdown",
   "metadata": {},
   "source": [
    "This notebook..."
   ]
  },
  {
   "cell_type": "code",
   "execution_count": 1,
   "metadata": {
    "ExecuteTime": {
     "end_time": "2021-10-16T22:46:07.087190Z",
     "start_time": "2021-10-16T22:46:05.879587Z"
    }
   },
   "outputs": [],
   "source": [
    "import pandas as pd\n",
    "import numpy as np\n",
    "import re\n",
    "\n",
    "# For data viz\n",
    "from IPython.display import display\n",
    "import matplotlib.pyplot as plt\n",
    "import seaborn as sns\n",
    "import plotly.io as pio\n",
    "import plotly.express as px\n",
    "from plotly.subplots import make_subplots\n",
    "import plotly.graph_objects as go\n",
    "\n",
    "# File system manangement\n",
    "import os\n",
    "\n",
    "plt.style.use('fivethirtyeight')\n",
    "plt.rcParams['figure.figsize'] = (12, 8)\n",
    "plt.rcParams['figure.dpi'] = 100\n",
    "\n",
    "# pd.set_option('plotting.backend', 'plotly')\n",
    "pd.set_option(\"display.min_rows\", 10)\n",
    "pd.set_option(\"display.max_columns\", 50)\n",
    "pd.set_option(\"max_colwidth\", 100)\n",
    "\n",
    "%reload_ext autoreload\n",
    "%autoreload 2"
   ]
  },
  {
   "cell_type": "code",
   "execution_count": 2,
   "metadata": {
    "ExecuteTime": {
     "end_time": "2021-10-16T22:46:09.028565Z",
     "start_time": "2021-10-16T22:46:07.088191Z"
    }
   },
   "outputs": [],
   "source": [
    "path = './application_train.csv'\n",
    "\n",
    "df_2 = pd.read_csv(path)"
   ]
  },
  {
   "cell_type": "markdown",
   "metadata": {},
   "source": [
    "# Utils functions"
   ]
  },
  {
   "cell_type": "code",
   "execution_count": 3,
   "metadata": {
    "ExecuteTime": {
     "end_time": "2021-10-16T22:46:09.643124Z",
     "start_time": "2021-10-16T22:46:09.030567Z"
    }
   },
   "outputs": [],
   "source": [
    "from preprocess_utils import encoding, handle_nans, scaling, sample_data\n",
    "from classification_utils import *\n",
    "\n",
    "from sklearn.preprocessing import MinMaxScaler \n",
    "from sklearn.neighbors import KDTree\n",
    "from sklearn.feature_selection import VarianceThreshold\n",
    "\n",
    "from sklearn.model_selection import train_test_split\n",
    "\n",
    "# Models used\n",
    "from sklearn.dummy import DummyClassifier\n",
    "from sklearn.linear_model import LogisticRegression\n",
    "from sklearn.tree import DecisionTreeClassifier\n",
    "from sklearn.ensemble import RandomForestClassifier\n",
    "import lightgbm as lgb\n",
    "\n",
    "# Evaluating our models\n",
    "from sklearn.metrics import accuracy_score, precision_score, recall_score, f1_score, roc_auc_score, confusion_matrix, plot_confusion_matrix, ConfusionMatrixDisplay\n",
    "from sklearn.model_selection import GridSearchCV\n",
    "from sklearn.metrics import fbeta_score, make_scorer\n",
    "\n",
    "\n",
    "def handle_outliers(df):\n",
    "    ### DAYS_EMPLOYED_ANOM ###\n",
    "    # Create an anomalous flag column\n",
    "    df['DAYS_EMPLOYED_ANOM'] = df[\"DAYS_EMPLOYED\"] == 365243\n",
    "    # Replace the anomalous values with nan\n",
    "    df['DAYS_EMPLOYED'].replace({365243: np.nan}, inplace = True)\n",
    "    df.DAYS_EMPLOYED = df.DAYS_EMPLOYED.abs()\n",
    "    print(f'(DAYS_EMPLOYED) {df[\"DAYS_EMPLOYED_ANOM\"].sum()} anomalous values found.')\n",
    "\n",
    "    ### DAYS columns ###\n",
    "    for col in df.columns[df.columns.str.contains('DAYS')]:\n",
    "        df[col] = df[col].abs()\n",
    "\n",
    "    ### Categorical XNA ###\n",
    "    for col_name in df.select_dtypes(include='object').columns:\n",
    "        if 'XNA' in (df[col_name].unique()):\n",
    "            nb_xna = df[col_name].value_counts().loc['XNA']\n",
    "            print(f'{nb_xna} XNAs found in {col_name}')\n",
    "            df[col_name].replace('XNA', np.nan, inplace=True)\n",
    "\n",
    "    return df\n",
    "\n",
    "def train_model(X_train, y_train, model, grid, scoring='roc_auc'):\n",
    "    model_cv = GridSearchCV(model, grid, cv=5, scoring=scoring, verbose=2, error_score='raise', n_jobs=-1)\n",
    "\n",
    "    # Train on the training data\n",
    "    model_cv.fit(X_train, y_train)\n",
    "    \n",
    "    return model_cv\n",
    "\n",
    "def business_score(y_true, y_pred):\n",
    "    cm = confusion_matrix(y_true, y_pred)\n",
    "    tn = cm[0,0] ; tp = cm[1,1] \n",
    "    fn = cm[1,0] ; fp = cm[0,1]\n",
    "\n",
    "    if type(y_true) == np.ndarray:\n",
    "        max_score = np.unique(y_true, return_counts=True)[1][0]*2 + np.unique(y_true, return_counts=True)[1][0]*1\n",
    "    else:\n",
    "        max_score = np.unique(y_true.values, return_counts=True)[1][0]*2 + np.unique(y_true.values, return_counts=True)[1][0]*1\n",
    "\n",
    "\n",
    "    score = (tn*2 + tp*1 + fp*(-2) + fn*(-20) )\n",
    "    \n",
    "    return score\n",
    "\n",
    "business_scoring = make_scorer(business_score, greater_is_better=True)\n",
    "\n",
    "\n",
    "def classif_score(y_true, X_test, model, name_model, display_cm = True):\n",
    "    \n",
    "    y_pred = model.predict(X_test).astype('int')\n",
    "    \n",
    "    if display_cm:\n",
    "        cm = confusion_matrix(y_true, y_pred)\n",
    "        make_confusion_matrix(cm, sum_stats=False, cbar=False, figsize=(4,4), title='Confusion Matrix')\n",
    "\n",
    "    data = {'Accuracy': round(accuracy_score(y_true, y_pred), 3),\n",
    "          'AUROC': round(roc_auc_score(y_true, model.predict_proba(X_test)[:,1]), 3),\n",
    "          'Precision': round(precision_score(y_true, y_pred), 3),\n",
    "          'Recall': round(recall_score(y_true, y_pred), 3),\n",
    "          'F1-Score': round(f1_score(y_true, y_pred), 3),\n",
    "          'FBeta-Score': round(fbeta_score(y_true, y_pred, beta=3, average='binary'), 3), # Report only for the positive label\n",
    "          'Business_score': round(business_score(y_true, y_pred) ,3)\n",
    "        }\n",
    "    return pd.DataFrame(data, index=[name_model])\n",
    "\n",
    "def adding_features(df, target):\n",
    "    age = df.DAYS_BIRTH/365\n",
    "    \n",
    "    # AMT_CREDIT: Credit amount of the loan ; AMT_ANNUITY: Loan annuity\n",
    "    credit_annuity_ratio = df.AMT_CREDIT /  df.AMT_ANNUITY\n",
    "    credit_goods_price_ratio =  df.AMT_CREDIT / df.AMT_GOODS_PRICE\n",
    "    credit_income_ratio =  df.AMT_CREDIT / df.AMT_INCOME_TOTAL\n",
    "    annuity_income_ratio = df.AMT_ANNUITY / df.AMT_INCOME_TOTAL\n",
    "    days_employed_life = df_2.DAYS_EMPLOYED / df_2.DAYS_BIRTH\n",
    "    \n",
    "    \n",
    "    tmp = df[['EXT_SOURCE_3', 'EXT_SOURCE_2', 'EXT_SOURCE_1']]\n",
    "    tmp = pd.concat([tmp, credit_annuity_ratio.rename('CREDIT_ANNUITY_RATIO')], axis=1) \n",
    "    \n",
    "#     # Computing Nearest Neigbors\n",
    "#     scaler = MinMaxScaler()\n",
    "#     scaled = scaler.fit_transform(tmp)\n",
    "    \n",
    "#     kdt = KDTree(scaled)\n",
    "    \n",
    "#     mean_target_50_nn = []\n",
    "\n",
    "#     for index, row in enumerate(scaled):\n",
    "#         indices = kdt.query(row.reshape(1,-1), 50, return_distance = False) # Compute the 50 nearest neighbors of a given line\n",
    "#         if target.iloc[indices[0]].mean() >= 0.5: # Determine the mean of the target of the 500nearest neighbors\n",
    "#             mean_target_50_nn.append(1)\n",
    "#         else: \n",
    "#             mean_target_50_nn.append(0)\n",
    "            \n",
    "    # Adding new features to the dataframe\n",
    "    df['AGE'] = age\n",
    "    df['CREDIT_ANNUITY_RATIO'] = credit_annuity_ratio\n",
    "    df['CREDIT_GOODS_PRICE_RATIO'] = credit_goods_price_ratio\n",
    "    df['CREDIT_INCOME_RATIO'] = credit_income_ratio\n",
    "    df['ANNUITY_INCOME_RATIO'] = annuity_income_ratio\n",
    "    df['DAYS_EMPLOYED_LIFE'] = days_employed_life\n",
    "    \n",
    "#     df['TARGET_50_NN'] = mean_target_50_nn\n",
    "    \n",
    "    print('Features added.')\n",
    "    \n",
    "    return df\n",
    "\n",
    "def delete_correl_features(df, to_drop):\n",
    "    return df.drop(to_drop, axis=1)\n",
    "\n",
    "def delete_low_var(X_train, X_test, var_th=0.01):  \n",
    "    selector = VarianceThreshold(threshold=var_th)\n",
    "    selector.fit(X_train)\n",
    "    col_to_drop = X_train.columns[~selector.get_support()] # Easier to debug\n",
    "    print(f'With var_th={var_th}: {len(col_to_drop)} columns dropped.')\n",
    "    X_train = X_train.drop(col_to_drop, axis=1)\n",
    "    X_test = X_test.drop(col_to_drop, axis=1)\n",
    "    \n",
    "    return X_train, X_test, col_to_drop\n",
    "\n",
    "from sklearn.feature_selection import SelectFromModel\n",
    "\n",
    "def delete_from_model(X_train, y_train, X_test, threshold_from_model='mean'):\n",
    "    selector = SelectFromModel(DecisionTreeClassifier(random_state=42), threshold=threshold_from_model)\n",
    "    selector.fit(X_train, y_train)\n",
    "    \n",
    "    col_to_drop = X_train.columns[~selector.get_support()] # Easier to debug\n",
    "    print(f'With threshold={threshold_from_model}: {len(col_to_drop)} columns dropped.')\n",
    "    X_train = X_train.drop(col_to_drop, axis=1)\n",
    "    X_test = X_test.drop(col_to_drop, axis=1)\n",
    "    \n",
    "    return X_train, X_test, col_to_drop"
   ]
  },
  {
   "cell_type": "markdown",
   "metadata": {
    "heading_collapsed": true,
    "toc-hr-collapsed": true
   },
   "source": [
    "# Features Engineering"
   ]
  },
  {
   "cell_type": "markdown",
   "metadata": {
    "heading_collapsed": true,
    "hidden": true,
    "toc-hr-collapsed": true
   },
   "source": [
    "## Creation of new features"
   ]
  },
  {
   "cell_type": "markdown",
   "metadata": {
    "hidden": true
   },
   "source": [
    "Here, we create some new features in order to improve the performance of the model:\n",
    " - Age is a pretty explicit feature\n",
    " - credit_annuity_ratio is the ratio a loan is compared to the whole credit (between 0 and 1)\n",
    " - credit_goods_ratio is the ratio of the credit compared to the price the customer will buy with\n",
    " - credit_income_ratio is the ratio of the credit compared to the total income of the client\n",
    " - annuity_income_ratio is the ratio of the annuity compared to the income of the client\n",
    " - days_employed_life is the % of time spent working in the whole life of the client\n",
    " - target_50_nn is the mean of the target of the 50 others customers \"similar\" (Nearest neighbors using EXT_SOURCEs and credit_annuity_ratio)"
   ]
  },
  {
   "cell_type": "markdown",
   "metadata": {
    "heading_collapsed": true,
    "hidden": true,
    "tags": [],
    "toc-hr-collapsed": true
   },
   "source": [
    "## Deleting correlated features"
   ]
  },
  {
   "cell_type": "code",
   "execution_count": 18,
   "metadata": {
    "ExecuteTime": {
     "end_time": "2021-10-14T14:14:32.319260Z",
     "start_time": "2021-10-14T14:14:24.783659Z"
    },
    "collapsed": true,
    "hidden": true,
    "jupyter": {
     "outputs_hidden": true
    },
    "tags": []
   },
   "outputs": [
    {
     "ename": "KeyboardInterrupt",
     "evalue": "",
     "output_type": "error",
     "traceback": [
      "\u001b[1;31m---------------------------------------------------------------------------\u001b[0m",
      "\u001b[1;31mKeyboardInterrupt\u001b[0m                         Traceback (most recent call last)",
      "\u001b[1;32m<ipython-input-18-2b4e6630124a>\u001b[0m in \u001b[0;36m<module>\u001b[1;34m\u001b[0m\n\u001b[1;32m----> 1\u001b[1;33m \u001b[0mcorr\u001b[0m \u001b[1;33m=\u001b[0m \u001b[0mdf_2\u001b[0m\u001b[1;33m.\u001b[0m\u001b[0mcorr\u001b[0m\u001b[1;33m(\u001b[0m\u001b[1;33m)\u001b[0m\u001b[1;33m\u001b[0m\u001b[1;33m\u001b[0m\u001b[0m\n\u001b[0m\u001b[0;32m      2\u001b[0m \u001b[1;31m# Fill diagonal and upper half with NaNs\u001b[0m\u001b[1;33m\u001b[0m\u001b[1;33m\u001b[0m\u001b[1;33m\u001b[0m\u001b[0m\n\u001b[0;32m      3\u001b[0m \u001b[0mmask\u001b[0m \u001b[1;33m=\u001b[0m \u001b[0mnp\u001b[0m\u001b[1;33m.\u001b[0m\u001b[0mzeros_like\u001b[0m\u001b[1;33m(\u001b[0m\u001b[0mcorr\u001b[0m\u001b[1;33m,\u001b[0m \u001b[0mdtype\u001b[0m\u001b[1;33m=\u001b[0m\u001b[0mbool\u001b[0m\u001b[1;33m)\u001b[0m\u001b[1;33m\u001b[0m\u001b[1;33m\u001b[0m\u001b[0m\n\u001b[0;32m      4\u001b[0m \u001b[0mmask\u001b[0m\u001b[1;33m[\u001b[0m\u001b[0mnp\u001b[0m\u001b[1;33m.\u001b[0m\u001b[0mtriu_indices_from\u001b[0m\u001b[1;33m(\u001b[0m\u001b[0mmask\u001b[0m\u001b[1;33m)\u001b[0m\u001b[1;33m]\u001b[0m \u001b[1;33m=\u001b[0m \u001b[1;32mTrue\u001b[0m\u001b[1;33m\u001b[0m\u001b[1;33m\u001b[0m\u001b[0m\n\u001b[0;32m      5\u001b[0m \u001b[0mcorr\u001b[0m\u001b[1;33m[\u001b[0m\u001b[0mmask\u001b[0m\u001b[1;33m]\u001b[0m \u001b[1;33m=\u001b[0m \u001b[0mnp\u001b[0m\u001b[1;33m.\u001b[0m\u001b[0mnan\u001b[0m\u001b[1;33m\u001b[0m\u001b[1;33m\u001b[0m\u001b[0m\n",
      "\u001b[1;32m~\\anaconda3\\envs\\dl-venv\\lib\\site-packages\\pandas\\core\\frame.py\u001b[0m in \u001b[0;36mcorr\u001b[1;34m(self, method, min_periods)\u001b[0m\n\u001b[0;32m   8376\u001b[0m \u001b[1;33m\u001b[0m\u001b[0m\n\u001b[0;32m   8377\u001b[0m         \u001b[1;32mif\u001b[0m \u001b[0mmethod\u001b[0m \u001b[1;33m==\u001b[0m \u001b[1;34m\"pearson\"\u001b[0m\u001b[1;33m:\u001b[0m\u001b[1;33m\u001b[0m\u001b[1;33m\u001b[0m\u001b[0m\n\u001b[1;32m-> 8378\u001b[1;33m             \u001b[0mcorrel\u001b[0m \u001b[1;33m=\u001b[0m \u001b[0mlibalgos\u001b[0m\u001b[1;33m.\u001b[0m\u001b[0mnancorr\u001b[0m\u001b[1;33m(\u001b[0m\u001b[0mmat\u001b[0m\u001b[1;33m,\u001b[0m \u001b[0mminp\u001b[0m\u001b[1;33m=\u001b[0m\u001b[0mmin_periods\u001b[0m\u001b[1;33m)\u001b[0m\u001b[1;33m\u001b[0m\u001b[1;33m\u001b[0m\u001b[0m\n\u001b[0m\u001b[0;32m   8379\u001b[0m         \u001b[1;32melif\u001b[0m \u001b[0mmethod\u001b[0m \u001b[1;33m==\u001b[0m \u001b[1;34m\"spearman\"\u001b[0m\u001b[1;33m:\u001b[0m\u001b[1;33m\u001b[0m\u001b[1;33m\u001b[0m\u001b[0m\n\u001b[0;32m   8380\u001b[0m             \u001b[0mcorrel\u001b[0m \u001b[1;33m=\u001b[0m \u001b[0mlibalgos\u001b[0m\u001b[1;33m.\u001b[0m\u001b[0mnancorr_spearman\u001b[0m\u001b[1;33m(\u001b[0m\u001b[0mmat\u001b[0m\u001b[1;33m,\u001b[0m \u001b[0mminp\u001b[0m\u001b[1;33m=\u001b[0m\u001b[0mmin_periods\u001b[0m\u001b[1;33m)\u001b[0m\u001b[1;33m\u001b[0m\u001b[1;33m\u001b[0m\u001b[0m\n",
      "\u001b[1;31mKeyboardInterrupt\u001b[0m: "
     ]
    }
   ],
   "source": [
    "corr = df_2.corr()\n",
    "# Fill diagonal and upper half with NaNs\n",
    "mask = np.zeros_like(corr, dtype=bool)\n",
    "mask[np.triu_indices_from(mask)] = True\n",
    "corr[mask] = np.nan\n",
    "corr[corr.abs() < 0.95] = np.nan\n",
    "\n",
    "corr = corr.dropna(how='all').dropna(how='all', axis=1)\n",
    "sns.heatmap(corr, annot=True, xticklabels=corr.columns.values, yticklabels=corr.columns.values)# (corr"
   ]
  },
  {
   "cell_type": "code",
   "execution_count": 244,
   "metadata": {
    "collapsed": true,
    "hidden": true,
    "jupyter": {
     "outputs_hidden": true
    },
    "tags": []
   },
   "outputs": [
    {
     "data": {
      "text/html": [
       "<div>\n",
       "<style scoped>\n",
       "    .dataframe tbody tr th:only-of-type {\n",
       "        vertical-align: middle;\n",
       "    }\n",
       "\n",
       "    .dataframe tbody tr th {\n",
       "        vertical-align: top;\n",
       "    }\n",
       "\n",
       "    .dataframe thead th {\n",
       "        text-align: right;\n",
       "    }\n",
       "</style>\n",
       "<table border=\"1\" class=\"dataframe\">\n",
       "  <thead>\n",
       "    <tr style=\"text-align: right;\">\n",
       "      <th></th>\n",
       "      <th>col2</th>\n",
       "      <th>col1</th>\n",
       "      <th>value</th>\n",
       "    </tr>\n",
       "  </thead>\n",
       "  <tbody>\n",
       "    <tr>\n",
       "      <th>0</th>\n",
       "      <td>AMT_CREDIT</td>\n",
       "      <td>AMT_GOODS_PRICE</td>\n",
       "      <td>0.986968</td>\n",
       "    </tr>\n",
       "    <tr>\n",
       "      <th>4</th>\n",
       "      <td>APARTMENTS_AVG</td>\n",
       "      <td>APARTMENTS_MEDI</td>\n",
       "      <td>0.995081</td>\n",
       "    </tr>\n",
       "    <tr>\n",
       "      <th>3</th>\n",
       "      <td>APARTMENTS_AVG</td>\n",
       "      <td>APARTMENTS_MODE</td>\n",
       "      <td>0.973259</td>\n",
       "    </tr>\n",
       "    <tr>\n",
       "      <th>31</th>\n",
       "      <td>APARTMENTS_MODE</td>\n",
       "      <td>APARTMENTS_MEDI</td>\n",
       "      <td>0.977193</td>\n",
       "    </tr>\n",
       "    <tr>\n",
       "      <th>5</th>\n",
       "      <td>BASEMENTAREA_AVG</td>\n",
       "      <td>BASEMENTAREA_MODE</td>\n",
       "      <td>0.973496</td>\n",
       "    </tr>\n",
       "    <tr>\n",
       "      <th>6</th>\n",
       "      <td>BASEMENTAREA_AVG</td>\n",
       "      <td>BASEMENTAREA_MEDI</td>\n",
       "      <td>0.994317</td>\n",
       "    </tr>\n",
       "    <tr>\n",
       "      <th>32</th>\n",
       "      <td>BASEMENTAREA_MODE</td>\n",
       "      <td>BASEMENTAREA_MEDI</td>\n",
       "      <td>0.977938</td>\n",
       "    </tr>\n",
       "    <tr>\n",
       "      <th>11</th>\n",
       "      <td>COMMONAREA_AVG</td>\n",
       "      <td>COMMONAREA_MODE</td>\n",
       "      <td>0.977147</td>\n",
       "    </tr>\n",
       "    <tr>\n",
       "      <th>12</th>\n",
       "      <td>COMMONAREA_AVG</td>\n",
       "      <td>COMMONAREA_MEDI</td>\n",
       "      <td>0.995978</td>\n",
       "    </tr>\n",
       "    <tr>\n",
       "      <th>35</th>\n",
       "      <td>COMMONAREA_MODE</td>\n",
       "      <td>COMMONAREA_MEDI</td>\n",
       "      <td>0.979887</td>\n",
       "    </tr>\n",
       "    <tr>\n",
       "      <th>1</th>\n",
       "      <td>DAYS_EMPLOYED</td>\n",
       "      <td>FLAG_EMP_PHONE</td>\n",
       "      <td>-0.999755</td>\n",
       "    </tr>\n",
       "    <tr>\n",
       "      <th>14</th>\n",
       "      <td>ELEVATORS_AVG</td>\n",
       "      <td>ELEVATORS_MEDI</td>\n",
       "      <td>0.996099</td>\n",
       "    </tr>\n",
       "    <tr>\n",
       "      <th>13</th>\n",
       "      <td>ELEVATORS_AVG</td>\n",
       "      <td>ELEVATORS_MODE</td>\n",
       "      <td>0.978837</td>\n",
       "    </tr>\n",
       "    <tr>\n",
       "      <th>36</th>\n",
       "      <td>ELEVATORS_MODE</td>\n",
       "      <td>ELEVATORS_MEDI</td>\n",
       "      <td>0.982828</td>\n",
       "    </tr>\n",
       "    <tr>\n",
       "      <th>15</th>\n",
       "      <td>ENTRANCES_AVG</td>\n",
       "      <td>ENTRANCES_MODE</td>\n",
       "      <td>0.977743</td>\n",
       "    </tr>\n",
       "    <tr>\n",
       "      <th>16</th>\n",
       "      <td>ENTRANCES_AVG</td>\n",
       "      <td>ENTRANCES_MEDI</td>\n",
       "      <td>0.996886</td>\n",
       "    </tr>\n",
       "    <tr>\n",
       "      <th>37</th>\n",
       "      <td>ENTRANCES_MODE</td>\n",
       "      <td>ENTRANCES_MEDI</td>\n",
       "      <td>0.980677</td>\n",
       "    </tr>\n",
       "    <tr>\n",
       "      <th>17</th>\n",
       "      <td>FLOORSMAX_AVG</td>\n",
       "      <td>FLOORSMAX_MODE</td>\n",
       "      <td>0.985689</td>\n",
       "    </tr>\n",
       "    <tr>\n",
       "      <th>18</th>\n",
       "      <td>FLOORSMAX_AVG</td>\n",
       "      <td>FLOORSMAX_MEDI</td>\n",
       "      <td>0.997034</td>\n",
       "    </tr>\n",
       "    <tr>\n",
       "      <th>38</th>\n",
       "      <td>FLOORSMAX_MODE</td>\n",
       "      <td>FLOORSMAX_MEDI</td>\n",
       "      <td>0.988237</td>\n",
       "    </tr>\n",
       "    <tr>\n",
       "      <th>19</th>\n",
       "      <td>FLOORSMIN_AVG</td>\n",
       "      <td>FLOORSMIN_MODE</td>\n",
       "      <td>0.985875</td>\n",
       "    </tr>\n",
       "    <tr>\n",
       "      <th>20</th>\n",
       "      <td>FLOORSMIN_AVG</td>\n",
       "      <td>FLOORSMIN_MEDI</td>\n",
       "      <td>0.997241</td>\n",
       "    </tr>\n",
       "    <tr>\n",
       "      <th>39</th>\n",
       "      <td>FLOORSMIN_MODE</td>\n",
       "      <td>FLOORSMIN_MEDI</td>\n",
       "      <td>0.988406</td>\n",
       "    </tr>\n",
       "    <tr>\n",
       "      <th>22</th>\n",
       "      <td>LANDAREA_AVG</td>\n",
       "      <td>LANDAREA_MEDI</td>\n",
       "      <td>0.991610</td>\n",
       "    </tr>\n",
       "    <tr>\n",
       "      <th>21</th>\n",
       "      <td>LANDAREA_AVG</td>\n",
       "      <td>LANDAREA_MODE</td>\n",
       "      <td>0.973696</td>\n",
       "    </tr>\n",
       "    <tr>\n",
       "      <th>40</th>\n",
       "      <td>LANDAREA_MODE</td>\n",
       "      <td>LANDAREA_MEDI</td>\n",
       "      <td>0.980835</td>\n",
       "    </tr>\n",
       "    <tr>\n",
       "      <th>24</th>\n",
       "      <td>LIVINGAPARTMENTS_AVG</td>\n",
       "      <td>LIVINGAPARTMENTS_MEDI</td>\n",
       "      <td>0.993825</td>\n",
       "    </tr>\n",
       "    <tr>\n",
       "      <th>23</th>\n",
       "      <td>LIVINGAPARTMENTS_AVG</td>\n",
       "      <td>LIVINGAPARTMENTS_MODE</td>\n",
       "      <td>0.970117</td>\n",
       "    </tr>\n",
       "    <tr>\n",
       "      <th>41</th>\n",
       "      <td>LIVINGAPARTMENTS_MODE</td>\n",
       "      <td>LIVINGAPARTMENTS_MEDI</td>\n",
       "      <td>0.975605</td>\n",
       "    </tr>\n",
       "    <tr>\n",
       "      <th>25</th>\n",
       "      <td>LIVINGAREA_AVG</td>\n",
       "      <td>LIVINGAREA_MODE</td>\n",
       "      <td>0.972050</td>\n",
       "    </tr>\n",
       "    <tr>\n",
       "      <th>26</th>\n",
       "      <td>LIVINGAREA_AVG</td>\n",
       "      <td>LIVINGAREA_MEDI</td>\n",
       "      <td>0.995596</td>\n",
       "    </tr>\n",
       "    <tr>\n",
       "      <th>42</th>\n",
       "      <td>LIVINGAREA_MODE</td>\n",
       "      <td>LIVINGAREA_MEDI</td>\n",
       "      <td>0.974743</td>\n",
       "    </tr>\n",
       "    <tr>\n",
       "      <th>27</th>\n",
       "      <td>NONLIVINGAPARTMENTS_AVG</td>\n",
       "      <td>NONLIVINGAPARTMENTS_MODE</td>\n",
       "      <td>0.969370</td>\n",
       "    </tr>\n",
       "    <tr>\n",
       "      <th>28</th>\n",
       "      <td>NONLIVINGAPARTMENTS_AVG</td>\n",
       "      <td>NONLIVINGAPARTMENTS_MEDI</td>\n",
       "      <td>0.990768</td>\n",
       "    </tr>\n",
       "    <tr>\n",
       "      <th>43</th>\n",
       "      <td>NONLIVINGAPARTMENTS_MODE</td>\n",
       "      <td>NONLIVINGAPARTMENTS_MEDI</td>\n",
       "      <td>0.978575</td>\n",
       "    </tr>\n",
       "    <tr>\n",
       "      <th>29</th>\n",
       "      <td>NONLIVINGAREA_AVG</td>\n",
       "      <td>NONLIVINGAREA_MODE</td>\n",
       "      <td>0.966087</td>\n",
       "    </tr>\n",
       "    <tr>\n",
       "      <th>30</th>\n",
       "      <td>NONLIVINGAREA_AVG</td>\n",
       "      <td>NONLIVINGAREA_MEDI</td>\n",
       "      <td>0.990444</td>\n",
       "    </tr>\n",
       "    <tr>\n",
       "      <th>44</th>\n",
       "      <td>NONLIVINGAREA_MODE</td>\n",
       "      <td>NONLIVINGAREA_MEDI</td>\n",
       "      <td>0.975839</td>\n",
       "    </tr>\n",
       "    <tr>\n",
       "      <th>45</th>\n",
       "      <td>OBS_30_CNT_SOCIAL_CIRCLE</td>\n",
       "      <td>OBS_60_CNT_SOCIAL_CIRCLE</td>\n",
       "      <td>0.998490</td>\n",
       "    </tr>\n",
       "    <tr>\n",
       "      <th>2</th>\n",
       "      <td>REGION_RATING_CLIENT</td>\n",
       "      <td>REGION_RATING_CLIENT_W_CITY</td>\n",
       "      <td>0.950842</td>\n",
       "    </tr>\n",
       "    <tr>\n",
       "      <th>8</th>\n",
       "      <td>YEARS_BEGINEXPLUATATION_AVG</td>\n",
       "      <td>YEARS_BEGINEXPLUATATION_MEDI</td>\n",
       "      <td>0.993825</td>\n",
       "    </tr>\n",
       "    <tr>\n",
       "      <th>7</th>\n",
       "      <td>YEARS_BEGINEXPLUATATION_AVG</td>\n",
       "      <td>YEARS_BEGINEXPLUATATION_MODE</td>\n",
       "      <td>0.971893</td>\n",
       "    </tr>\n",
       "    <tr>\n",
       "      <th>33</th>\n",
       "      <td>YEARS_BEGINEXPLUATATION_MODE</td>\n",
       "      <td>YEARS_BEGINEXPLUATATION_MEDI</td>\n",
       "      <td>0.963539</td>\n",
       "    </tr>\n",
       "    <tr>\n",
       "      <th>9</th>\n",
       "      <td>YEARS_BUILD_AVG</td>\n",
       "      <td>YEARS_BUILD_MODE</td>\n",
       "      <td>0.989444</td>\n",
       "    </tr>\n",
       "    <tr>\n",
       "      <th>10</th>\n",
       "      <td>YEARS_BUILD_AVG</td>\n",
       "      <td>YEARS_BUILD_MEDI</td>\n",
       "      <td>0.998495</td>\n",
       "    </tr>\n",
       "    <tr>\n",
       "      <th>34</th>\n",
       "      <td>YEARS_BUILD_MODE</td>\n",
       "      <td>YEARS_BUILD_MEDI</td>\n",
       "      <td>0.989463</td>\n",
       "    </tr>\n",
       "  </tbody>\n",
       "</table>\n",
       "</div>"
      ],
      "text/plain": [
       "                            col2                          col1     value\n",
       "0                     AMT_CREDIT               AMT_GOODS_PRICE  0.986968\n",
       "4                 APARTMENTS_AVG               APARTMENTS_MEDI  0.995081\n",
       "3                 APARTMENTS_AVG               APARTMENTS_MODE  0.973259\n",
       "31               APARTMENTS_MODE               APARTMENTS_MEDI  0.977193\n",
       "5               BASEMENTAREA_AVG             BASEMENTAREA_MODE  0.973496\n",
       "6               BASEMENTAREA_AVG             BASEMENTAREA_MEDI  0.994317\n",
       "32             BASEMENTAREA_MODE             BASEMENTAREA_MEDI  0.977938\n",
       "11                COMMONAREA_AVG               COMMONAREA_MODE  0.977147\n",
       "12                COMMONAREA_AVG               COMMONAREA_MEDI  0.995978\n",
       "35               COMMONAREA_MODE               COMMONAREA_MEDI  0.979887\n",
       "1                  DAYS_EMPLOYED                FLAG_EMP_PHONE -0.999755\n",
       "14                 ELEVATORS_AVG                ELEVATORS_MEDI  0.996099\n",
       "13                 ELEVATORS_AVG                ELEVATORS_MODE  0.978837\n",
       "36                ELEVATORS_MODE                ELEVATORS_MEDI  0.982828\n",
       "15                 ENTRANCES_AVG                ENTRANCES_MODE  0.977743\n",
       "16                 ENTRANCES_AVG                ENTRANCES_MEDI  0.996886\n",
       "37                ENTRANCES_MODE                ENTRANCES_MEDI  0.980677\n",
       "17                 FLOORSMAX_AVG                FLOORSMAX_MODE  0.985689\n",
       "18                 FLOORSMAX_AVG                FLOORSMAX_MEDI  0.997034\n",
       "38                FLOORSMAX_MODE                FLOORSMAX_MEDI  0.988237\n",
       "19                 FLOORSMIN_AVG                FLOORSMIN_MODE  0.985875\n",
       "20                 FLOORSMIN_AVG                FLOORSMIN_MEDI  0.997241\n",
       "39                FLOORSMIN_MODE                FLOORSMIN_MEDI  0.988406\n",
       "22                  LANDAREA_AVG                 LANDAREA_MEDI  0.991610\n",
       "21                  LANDAREA_AVG                 LANDAREA_MODE  0.973696\n",
       "40                 LANDAREA_MODE                 LANDAREA_MEDI  0.980835\n",
       "24          LIVINGAPARTMENTS_AVG         LIVINGAPARTMENTS_MEDI  0.993825\n",
       "23          LIVINGAPARTMENTS_AVG         LIVINGAPARTMENTS_MODE  0.970117\n",
       "41         LIVINGAPARTMENTS_MODE         LIVINGAPARTMENTS_MEDI  0.975605\n",
       "25                LIVINGAREA_AVG               LIVINGAREA_MODE  0.972050\n",
       "26                LIVINGAREA_AVG               LIVINGAREA_MEDI  0.995596\n",
       "42               LIVINGAREA_MODE               LIVINGAREA_MEDI  0.974743\n",
       "27       NONLIVINGAPARTMENTS_AVG      NONLIVINGAPARTMENTS_MODE  0.969370\n",
       "28       NONLIVINGAPARTMENTS_AVG      NONLIVINGAPARTMENTS_MEDI  0.990768\n",
       "43      NONLIVINGAPARTMENTS_MODE      NONLIVINGAPARTMENTS_MEDI  0.978575\n",
       "29             NONLIVINGAREA_AVG            NONLIVINGAREA_MODE  0.966087\n",
       "30             NONLIVINGAREA_AVG            NONLIVINGAREA_MEDI  0.990444\n",
       "44            NONLIVINGAREA_MODE            NONLIVINGAREA_MEDI  0.975839\n",
       "45      OBS_30_CNT_SOCIAL_CIRCLE      OBS_60_CNT_SOCIAL_CIRCLE  0.998490\n",
       "2           REGION_RATING_CLIENT   REGION_RATING_CLIENT_W_CITY  0.950842\n",
       "8    YEARS_BEGINEXPLUATATION_AVG  YEARS_BEGINEXPLUATATION_MEDI  0.993825\n",
       "7    YEARS_BEGINEXPLUATATION_AVG  YEARS_BEGINEXPLUATATION_MODE  0.971893\n",
       "33  YEARS_BEGINEXPLUATATION_MODE  YEARS_BEGINEXPLUATATION_MEDI  0.963539\n",
       "9                YEARS_BUILD_AVG              YEARS_BUILD_MODE  0.989444\n",
       "10               YEARS_BUILD_AVG              YEARS_BUILD_MEDI  0.998495\n",
       "34              YEARS_BUILD_MODE              YEARS_BUILD_MEDI  0.989463"
      ]
     },
     "execution_count": 244,
     "metadata": {},
     "output_type": "execute_result"
    }
   ],
   "source": [
    "high_corr = pd.DataFrame(columns={'col1', 'col2', 'value'})\n",
    "\n",
    "for col in corr.columns:\n",
    "    for index in corr.index:\n",
    "        if not (np.isnan(corr.loc[index][col])):\n",
    "            high_corr = high_corr.append(pd.DataFrame({'col1':[index], 'col2':[col], 'value':[corr.loc[index][col]]}), ignore_index=True)\n",
    "            \n",
    "high_corr.sort_values(by='col2')"
   ]
  },
  {
   "cell_type": "code",
   "execution_count": 258,
   "metadata": {
    "hidden": true
   },
   "outputs": [],
   "source": [
    "to_keep = ['YEAR_BUILD_MEDI', 'YEARS_BEGINEXPLUATATION_MEDI', 'REGION_RATING_CLIENT', 'NONLIVINGAREA_MEDI', 'NONLIVINGAPARTMENTS_MEDI', 'LIVING_AREA_MEDI', 'LIVINGAPARTMENTS_MEDI', 'LANDAREA_MEDI', 'FLOORSMIN_MEDI',\n",
    "          'FLOORSMIN_MEDI', 'FLOORSMAX_MEDI', 'ENTRANCES_MEDI', 'COMMONAREA_MEDI', 'BASEMENTAREA_MEDI', 'APARTMENTS_MEDI']\n",
    "\n",
    "to_drop = ['YEARS_BUILD_AVG', 'YEARS_BUILD_MODE', 'YEARS_BEGINEXPLUATATION_MODE', 'YEARS_BEGINEXPLUATATION_AVG', 'REGION_RATING_CLIENT_W_CITY', 'OBS_60_CNT_SOCIAL_CIRCLE',\n",
    "          'NONLIVINGAREA_AVG', 'NONLIVINGAREA_MODE', 'NONLIVINGAPARTMENTS_MODE', 'NONLIVINGAPARTMENTS_AVG', 'LIVINGAREA_AVG', 'LIVINGAREA_MODE',\n",
    "           'LIVINGAPARTMENTS_AVG', 'LIVINGAPARTMENTS_MODE', 'LANDAREA_AVG', 'LANDAREA_MODE', 'FLOORSMIN_MODE', 'FLOORSMIN_AVG', 'FLOORSMAX_MODE', 'FLOORSMAX_AVG', \n",
    "           'ENTRANCES_AVG', 'ENTRANCES_MODE', 'ELEVATORS_AVG', 'ELEVATORS_MODE', 'COMMONAREA_AVG', 'COMMONAREA_MODE', 'BASEMENTAREA_MODE', 'BASEMENTAREA_AVG', 'APARTMENTS_AVG', 'APARTMENTS_MODE', 'FLAG_EMP_PHONE'\n",
    "          ]"
   ]
  },
  {
   "cell_type": "markdown",
   "metadata": {
    "heading_collapsed": true,
    "hidden": true,
    "tags": [],
    "toc-hr-collapsed": true
   },
   "source": [
    "## Variance Threshold"
   ]
  },
  {
   "cell_type": "code",
   "execution_count": 19,
   "metadata": {
    "hidden": true
   },
   "outputs": [
    {
     "data": {
      "text/plain": [
       "114"
      ]
     },
     "execution_count": 19,
     "metadata": {},
     "output_type": "execute_result"
    }
   ],
   "source": [
    "(X_train_2.var() < 0.01).sum()"
   ]
  },
  {
   "cell_type": "markdown",
   "metadata": {
    "hidden": true
   },
   "source": [
    "I saw a certain numbers of features with very low variance."
   ]
  },
  {
   "cell_type": "markdown",
   "metadata": {},
   "source": [
    "# Modelling"
   ]
  },
  {
   "cell_type": "markdown",
   "metadata": {},
   "source": [
    "For the following training, we'll focus on the two models that gave us the best Business score: Random Forest et Light GBM\n",
    "\n",
    "Here we are going to measure the impact of feature engineering on our results"
   ]
  },
  {
   "cell_type": "code",
   "execution_count": 4,
   "metadata": {
    "ExecuteTime": {
     "end_time": "2021-10-16T22:46:12.546297Z",
     "start_time": "2021-10-16T22:46:12.465693Z"
    },
    "code_folding": []
   },
   "outputs": [],
   "source": [
    "def preprocessing_fe(data, delete_correl = False, adding_f = False, low_var = False, var_th = 0.01, from_model=False, s=MinMaxScaler, return_object_to_ser=False, **params_scaler):\n",
    "    df = data.copy(deep=True)\n",
    "    \n",
    "    col_to_drop = []\n",
    "    \n",
    "    df = df.rename(columns = lambda x:re.sub('[^A-Za-z0-9_]+', '', x)) # Delete special JSON characters from column names\n",
    "    if delete_correl:\n",
    "        to_drop = ['YEARS_BUILD_AVG', 'YEARS_BUILD_MODE', 'YEARS_BEGINEXPLUATATION_MODE', 'YEARS_BEGINEXPLUATATION_AVG', 'REGION_RATING_CLIENT_W_CITY', 'OBS_60_CNT_SOCIAL_CIRCLE',\n",
    "              'NONLIVINGAREA_AVG', 'NONLIVINGAREA_MODE', 'NONLIVINGAPARTMENTS_MODE', 'NONLIVINGAPARTMENTS_AVG', 'LIVINGAREA_AVG', 'LIVINGAREA_MODE',\n",
    "               'LIVINGAPARTMENTS_AVG', 'LIVINGAPARTMENTS_MODE', 'LANDAREA_AVG', 'LANDAREA_MODE', 'FLOORSMIN_MODE', 'FLOORSMIN_AVG', 'FLOORSMAX_MODE', 'FLOORSMAX_AVG', \n",
    "               'ENTRANCES_AVG', 'ENTRANCES_MODE', 'ELEVATORS_AVG', 'ELEVATORS_MODE', 'COMMONAREA_AVG', 'COMMONAREA_MODE', 'BASEMENTAREA_MODE', 'BASEMENTAREA_AVG', 'APARTMENTS_AVG', 'APARTMENTS_MODE', 'FLAG_EMP_PHONE'\n",
    "              ]\n",
    "        col_to_drop.append(to_drop)\n",
    "        df = delete_correl_features(df, to_drop)\n",
    "\n",
    "    print(\"Handling Outliers\".center(50, '-'))\n",
    "    df = handle_outliers(df)\n",
    "    print()\n",
    "\n",
    "    print(\"Encoding\".center(50, '-'))\n",
    "    df, col_to_le, col_to_one_hot = encoding(df) # TARGET will not be treated as categorical variables here\n",
    "    print()  \n",
    "\n",
    "    print('Splitting in train/test set'.center(50, '-'))\n",
    "    train, test = train_test_split(df, test_size=0.2, random_state=42, stratify=df['TARGET'])\n",
    "    X_train = train.drop('TARGET', axis=1);   y_train = train.TARGET\n",
    "    X_test = test.drop('TARGET', axis=1);  y_test = test.TARGET\n",
    "    print('train:', X_train.shape);  print('test:', X_test.shape)\n",
    "    print()\n",
    "    \n",
    "    print(\"Handling NaNs\".center(50, '-'))\n",
    "    print('train: ', end=' '); X_train, imputer = handle_nans(X_train)\n",
    "    print('test: ', end=' '); print(f'{X_test.isna().sum().sum()} nans found.')\n",
    "    col_num = X_test.select_dtypes(include=np.number).columns\n",
    "    X_test[col_num] = imputer.transform(X_test[col_num])\n",
    "    print()\n",
    "    \n",
    "    if adding_f:\n",
    "        print(\"Adding Features\".center(50, '-'))\n",
    "        print('train:', end=' '); X_train = adding_features(X_train, y_train)\n",
    "        print('test: ', end=' '); X_test = adding_features(X_test, y_test)\n",
    "        print()\n",
    "        \n",
    "    if low_var:\n",
    "        print(\"Deleting low variance features\".center(50, '-'))\n",
    "        X_train, X_test, to_drop = delete_low_var(X_train, X_test, var_th)\n",
    "        col_to_drop.append(to_drop)\n",
    "        print()\n",
    "        \n",
    "        \n",
    "    if from_model:\n",
    "        print(\"Deleting with model features importance\".center(50, '-'))\n",
    "        X_train, X_test, to_drop = delete_from_model(X_train, y_train, X_test, threshold_from_model='mean')\n",
    "        col_to_drop.append(to_drop)\n",
    "        print()\n",
    "\n",
    "    print(\"Scaling\".center(50, '-'))\n",
    "    X_train, X_test, scaler = scaling(X_train, X_test, s=s,  **params_scaler)\n",
    "    print()    \n",
    "    \n",
    "\n",
    "    if return_object_to_ser:\n",
    "        to_serialize = {'scaler': scaler, 'imputer': imputer,\n",
    "                  'le':col_to_le, 'one_hot': col_to_one_hot, \n",
    "                  'to_drop': to_drop.append(col_to_drop)}\n",
    "        return X_train, y_train, X_test, y_test, to_serialize\n",
    "    else:\n",
    "        return X_train, y_train, X_test, y_test"
   ]
  },
  {
   "cell_type": "markdown",
   "metadata": {
    "toc-hr-collapsed": true
   },
   "source": [
    "### Adding features"
   ]
  },
  {
   "cell_type": "markdown",
   "metadata": {
    "heading_collapsed": true
   },
   "source": [
    "#### Random Forest"
   ]
  },
  {
   "cell_type": "code",
   "execution_count": 5,
   "metadata": {
    "ExecuteTime": {
     "end_time": "2021-10-16T14:03:34.539782Z",
     "start_time": "2021-10-16T14:00:20.477131Z"
    },
    "hidden": true,
    "tags": []
   },
   "outputs": [
    {
     "name": "stdout",
     "output_type": "stream",
     "text": [
      "----------------Handling Outliers-----------------\n",
      "(DAYS_EMPLOYED) 55374 anomalous values found.\n",
      "4 XNAs found in CODE_GENDER\n",
      "55374 XNAs found in ORGANIZATION_TYPE\n",
      "\n",
      "---------------------Encoding---------------------\n",
      "3 columns were label encoded.\n",
      "119 columns were one-hot encoded.\n",
      "\n",
      "-----------Splitting in train/test set------------\n",
      "train: (246008, 241)\n",
      "test: (61503, 241)\n",
      "\n",
      "------------------Handling NaNs-------------------\n",
      "train: 6751520 nans found.\n",
      "Imputing with <class 'sklearn.impute._base.SimpleImputer'> \n",
      "Strategy: median ; Params: {}\n",
      "test:  1691948 nans found.\n",
      "Imputing with <class 'sklearn.impute._base.SimpleImputer'> \n",
      "Strategy: median ; Params: {}\n",
      "\n",
      "---------------------Scaling----------------------\n",
      "Scaling with <class 'sklearn.preprocessing._data.MinMaxScaler'> \n",
      "Params: {}\n",
      "\n",
      "(30000, 241)\n",
      "(30000,)\n",
      "0    0.919267\n",
      "1    0.080733\n",
      "Name: TARGET, dtype: float64\n",
      "Fitting 5 folds for each of 25 candidates, totalling 125 fits\n",
      "RandomForestClassifier(class_weight='balanced_subsample', max_depth=15,\n",
      "                       min_samples_split=50, n_estimators=200, random_state=42)\n",
      "Wall time: 3min 14s\n"
     ]
    }
   ],
   "source": [
    "%%time\n",
    "grid = {\n",
    "    'max_depth': np.linspace(5,15,5).astype('int'), #Top 1 \n",
    "    'min_samples_split': np.linspace(50,300,5).astype('int'),\n",
    "}\n",
    "\n",
    "\n",
    "X_train_2, y_train_2, X_test_2, y_test_2 = preprocessing_fe(df_2, delete_correl=False, adding_f=False, low_var=False)\n",
    "X_train_s2, y_train_s2 = sample_data(X_train_2, y_train_2, nb_samples=30000)\n",
    "\n",
    "rf_cv = train_model(X_train_s2, y_train_s2, RandomForestClassifier(random_state=42, n_estimators=200, class_weight='balanced_subsample'), grid=grid, scoring=business_scoring)\n",
    "print(rf_cv.best_estimator_)\n",
    "rf_cv_no_fe = classif_score(y_test_2, X_test_2, rf_cv.best_estimator_, 'Without FE', display_cm=False)"
   ]
  },
  {
   "cell_type": "code",
   "execution_count": 6,
   "metadata": {
    "ExecuteTime": {
     "end_time": "2021-10-16T14:09:46.227947Z",
     "start_time": "2021-10-16T14:03:34.540783Z"
    },
    "hidden": true
   },
   "outputs": [
    {
     "name": "stdout",
     "output_type": "stream",
     "text": [
      "----------------Handling Outliers-----------------\n",
      "(DAYS_EMPLOYED) 55374 anomalous values found.\n",
      "4 XNAs found in CODE_GENDER\n",
      "55374 XNAs found in ORGANIZATION_TYPE\n",
      "\n",
      "---------------------Encoding---------------------\n",
      "3 columns were label encoded.\n",
      "119 columns were one-hot encoded.\n",
      "\n",
      "-----------Splitting in train/test set------------\n",
      "train: (246008, 241)\n",
      "test: (61503, 241)\n",
      "\n",
      "------------------Handling NaNs-------------------\n",
      "train: 6751520 nans found.\n",
      "Imputing with <class 'sklearn.impute._base.SimpleImputer'> \n",
      "Strategy: median ; Params: {}\n",
      "test:  1691948 nans found.\n",
      "Imputing with <class 'sklearn.impute._base.SimpleImputer'> \n",
      "Strategy: median ; Params: {}\n",
      "\n",
      "-----------------Adding Features------------------\n",
      "train: Features added.\n",
      "test:  Features added.\n",
      "\n",
      "---------------------Scaling----------------------\n",
      "Scaling with <class 'sklearn.preprocessing._data.MinMaxScaler'> \n",
      "Params: {}\n",
      "\n",
      "(30000, 248)\n",
      "(30000,)\n",
      "0    0.919267\n",
      "1    0.080733\n",
      "Name: TARGET, dtype: float64\n",
      "Fitting 5 folds for each of 50 candidates, totalling 250 fits\n",
      "RandomForestClassifier(class_weight='balanced_subsample', max_depth=15,\n",
      "                       min_samples_split=155, n_estimators=200,\n",
      "                       random_state=42)\n",
      "Wall time: 6min 11s\n"
     ]
    }
   ],
   "source": [
    "%%time\n",
    "grid = {\n",
    "    'max_depth': np.linspace(5,15,5).astype('int'), #Top 1 \n",
    "    'min_samples_split': np.linspace(50,1000,10).astype('int'),\n",
    "}\n",
    "\n",
    "X_train_2, y_train_2, X_test_2, y_test_2 = preprocessing_fe(df_2, delete_correl=False, adding_f=True, low_var=False)\n",
    "X_train_s2, y_train_s2 = sample_data(X_train_2, y_train_2, nb_samples=30000)\n",
    "\n",
    "rf_cv = train_model(X_train_s2, y_train_s2, RandomForestClassifier(random_state=42, n_estimators=200, class_weight='balanced_subsample'), grid=grid, scoring=business_scoring)\n",
    "print(rf_cv.best_estimator_)\n",
    "rf_cv_add_fe = classif_score(y_test_2, X_test_2, rf_cv.best_estimator_, 'Features added', display_cm=False)"
   ]
  },
  {
   "cell_type": "code",
   "execution_count": 7,
   "metadata": {
    "ExecuteTime": {
     "end_time": "2021-10-16T14:09:46.308020Z",
     "start_time": "2021-10-16T14:09:46.228948Z"
    },
    "hidden": true
   },
   "outputs": [
    {
     "data": {
      "text/html": [
       "<div>\n",
       "<style scoped>\n",
       "    .dataframe tbody tr th:only-of-type {\n",
       "        vertical-align: middle;\n",
       "    }\n",
       "\n",
       "    .dataframe tbody tr th {\n",
       "        vertical-align: top;\n",
       "    }\n",
       "\n",
       "    .dataframe thead th {\n",
       "        text-align: right;\n",
       "    }\n",
       "</style>\n",
       "<table border=\"1\" class=\"dataframe\">\n",
       "  <thead>\n",
       "    <tr style=\"text-align: right;\">\n",
       "      <th></th>\n",
       "      <th>Accuracy</th>\n",
       "      <th>AUROC</th>\n",
       "      <th>Precision</th>\n",
       "      <th>Recall</th>\n",
       "      <th>F1-Score</th>\n",
       "      <th>FBeta-Score</th>\n",
       "      <th>Business_score</th>\n",
       "    </tr>\n",
       "  </thead>\n",
       "  <tbody>\n",
       "    <tr>\n",
       "      <th>Without FE</th>\n",
       "      <td>0.857</td>\n",
       "      <td>0.720</td>\n",
       "      <td>0.223</td>\n",
       "      <td>0.312</td>\n",
       "      <td>0.26</td>\n",
       "      <td>0.300</td>\n",
       "      <td>24687</td>\n",
       "    </tr>\n",
       "    <tr>\n",
       "      <th>Features added</th>\n",
       "      <td>0.850</td>\n",
       "      <td>0.735</td>\n",
       "      <td>0.229</td>\n",
       "      <td>0.362</td>\n",
       "      <td>0.28</td>\n",
       "      <td>0.342</td>\n",
       "      <td>27298</td>\n",
       "    </tr>\n",
       "  </tbody>\n",
       "</table>\n",
       "</div>"
      ],
      "text/plain": [
       "                Accuracy  AUROC  Precision  Recall  F1-Score  FBeta-Score  \\\n",
       "Without FE         0.857  0.720      0.223   0.312      0.26        0.300   \n",
       "Features added     0.850  0.735      0.229   0.362      0.28        0.342   \n",
       "\n",
       "                Business_score  \n",
       "Without FE               24687  \n",
       "Features added           27298  "
      ]
     },
     "execution_count": 7,
     "metadata": {},
     "output_type": "execute_result"
    }
   ],
   "source": [
    "pd.concat([rf_cv_no_fe, rf_cv_add_fe])"
   ]
  },
  {
   "cell_type": "markdown",
   "metadata": {
    "hidden": true
   },
   "source": [
    "---"
   ]
  },
  {
   "cell_type": "markdown",
   "metadata": {
    "hidden": true
   },
   "source": [
    "**Business score improvement of 2500**"
   ]
  },
  {
   "cell_type": "markdown",
   "metadata": {},
   "source": [
    "#### LBGM"
   ]
  },
  {
   "cell_type": "code",
   "execution_count": 5,
   "metadata": {
    "ExecuteTime": {
     "end_time": "2021-10-16T22:46:15.338837Z",
     "start_time": "2021-10-16T22:46:15.265772Z"
    }
   },
   "outputs": [],
   "source": [
    "grid = {\n",
    "      'num_leaves':np.linspace(25, 100, 4).astype('int'),\n",
    "      'max_depth': np.linspace(1,5,3).astype('int'), # weak learner\n",
    "      'reg_alpha': [0, 0.5, 1], # np.linspace(0,1,4),\n",
    "      'reg_lambda': [0, 0.5, 1], # np.linspace(0,1,4)\n",
    "} "
   ]
  },
  {
   "cell_type": "code",
   "execution_count": 6,
   "metadata": {
    "ExecuteTime": {
     "end_time": "2021-10-16T22:52:42.290504Z",
     "start_time": "2021-10-16T22:46:15.467957Z"
    },
    "tags": []
   },
   "outputs": [
    {
     "name": "stdout",
     "output_type": "stream",
     "text": [
      "----------------Handling Outliers-----------------\n",
      "(DAYS_EMPLOYED) 55374 anomalous values found.\n",
      "4 XNAs found in CODE_GENDER\n",
      "55374 XNAs found in ORGANIZATION_TYPE\n",
      "\n",
      "---------------------Encoding---------------------\n",
      "3 columns were label encoded.\n",
      "119 columns were one-hot encoded.\n",
      "\n",
      "-----------Splitting in train/test set------------\n",
      "train: (246008, 241)\n",
      "test: (61503, 241)\n",
      "\n",
      "------------------Handling NaNs-------------------\n",
      "train:  Imputing with <class 'sklearn.impute._base.SimpleImputer'> \n",
      "Strategy: median ; Params: {}\n",
      "test:  1691948 nans found.\n",
      "\n",
      "---------------------Scaling----------------------\n",
      "Scaling with <class 'sklearn.preprocessing._data.MinMaxScaler'> \n",
      "Params: {}\n",
      "\n",
      "(30000, 241)\n",
      "(30000,)\n",
      "0    0.919267\n",
      "1    0.080733\n",
      "Name: TARGET, dtype: float64\n",
      "Fitting 5 folds for each of 108 candidates, totalling 540 fits\n",
      "LGBMClassifier(class_weight='balanced', learning_rate=0.2, max_depth=5,\n",
      "               n_estimators=200, num_leaves=50, random_state=42, reg_alpha=0.5,\n",
      "               reg_lambda=1)\n",
      "Wall time: 6min 26s\n"
     ]
    }
   ],
   "source": [
    "%%time\n",
    "X_train_2, y_train_2, X_test_2, y_test_2 = preprocessing_fe(df_2, delete_correl=False, adding_f=False, low_var=False)\n",
    "X_train_s2, y_train_s2 = sample_data(X_train_2, y_train_2, nb_samples=30000)\n",
    "\n",
    "gbm_cv = train_model(X_train_s2.values, y_train_s2.values, lgb.LGBMClassifier(random_state=42, learning_rate=0.2, n_estimators=200, class_weight='balanced'), grid=grid, scoring=business_scoring)\n",
    "print(gbm_cv.best_estimator_)\n",
    "gbm_cv_no_fe = classif_score(y_test_2, X_test_2, gbm_cv.best_estimator_, 'Without FE', display_cm=False)"
   ]
  },
  {
   "cell_type": "code",
   "execution_count": 7,
   "metadata": {
    "ExecuteTime": {
     "end_time": "2021-10-16T22:59:17.818446Z",
     "start_time": "2021-10-16T22:52:42.292505Z"
    },
    "tags": []
   },
   "outputs": [
    {
     "name": "stdout",
     "output_type": "stream",
     "text": [
      "----------------Handling Outliers-----------------\n",
      "(DAYS_EMPLOYED) 55374 anomalous values found.\n",
      "4 XNAs found in CODE_GENDER\n",
      "55374 XNAs found in ORGANIZATION_TYPE\n",
      "\n",
      "---------------------Encoding---------------------\n",
      "3 columns were label encoded.\n",
      "119 columns were one-hot encoded.\n",
      "\n",
      "-----------Splitting in train/test set------------\n",
      "train: (246008, 241)\n",
      "test: (61503, 241)\n",
      "\n",
      "------------------Handling NaNs-------------------\n",
      "train:  Imputing with <class 'sklearn.impute._base.SimpleImputer'> \n",
      "Strategy: median ; Params: {}\n",
      "test:  1691948 nans found.\n",
      "\n",
      "-----------------Adding Features------------------\n",
      "train: Features added.\n",
      "test:  Features added.\n",
      "\n",
      "---------------------Scaling----------------------\n",
      "Scaling with <class 'sklearn.preprocessing._data.MinMaxScaler'> \n",
      "Params: {}\n",
      "\n",
      "(30000, 247)\n",
      "(30000,)\n",
      "0    0.919267\n",
      "1    0.080733\n",
      "Name: TARGET, dtype: float64\n",
      "Fitting 5 folds for each of 108 candidates, totalling 540 fits\n",
      "LGBMClassifier(class_weight='balanced', learning_rate=0.2, max_depth=5,\n",
      "               n_estimators=200, num_leaves=50, random_state=42, reg_alpha=1,\n",
      "               reg_lambda=0)\n",
      "Wall time: 6min 35s\n"
     ]
    }
   ],
   "source": [
    "%%time\n",
    "X_train_2, y_train_2, X_test_2, y_test_2 = preprocessing_fe(df_2, delete_correl=False, adding_f=True, low_var=False)\n",
    "X_train_s2, y_train_s2 = sample_data(X_train_2, y_train_2, nb_samples=30000)\n",
    "\n",
    "gbm_cv = train_model(X_train_s2.values, y_train_s2.values, lgb.LGBMClassifier(random_state=42, learning_rate=0.2, n_estimators=200, class_weight='balanced'), grid=grid, scoring=business_scoring)\n",
    "print(gbm_cv.best_estimator_)\n",
    "gbm_cv_add_fe = classif_score(y_test_2, X_test_2, gbm_cv.best_estimator_, 'Feature added', display_cm=False)"
   ]
  },
  {
   "cell_type": "code",
   "execution_count": 8,
   "metadata": {
    "ExecuteTime": {
     "end_time": "2021-10-16T22:59:17.898519Z",
     "start_time": "2021-10-16T22:59:17.819447Z"
    }
   },
   "outputs": [
    {
     "data": {
      "text/html": [
       "<div>\n",
       "<style scoped>\n",
       "    .dataframe tbody tr th:only-of-type {\n",
       "        vertical-align: middle;\n",
       "    }\n",
       "\n",
       "    .dataframe tbody tr th {\n",
       "        vertical-align: top;\n",
       "    }\n",
       "\n",
       "    .dataframe thead th {\n",
       "        text-align: right;\n",
       "    }\n",
       "</style>\n",
       "<table border=\"1\" class=\"dataframe\">\n",
       "  <thead>\n",
       "    <tr style=\"text-align: right;\">\n",
       "      <th></th>\n",
       "      <th>Accuracy</th>\n",
       "      <th>AUROC</th>\n",
       "      <th>Precision</th>\n",
       "      <th>Recall</th>\n",
       "      <th>F1-Score</th>\n",
       "      <th>FBeta-Score</th>\n",
       "      <th>Business_score</th>\n",
       "    </tr>\n",
       "  </thead>\n",
       "  <tbody>\n",
       "    <tr>\n",
       "      <th>Without FE</th>\n",
       "      <td>0.813</td>\n",
       "      <td>0.720</td>\n",
       "      <td>0.196</td>\n",
       "      <td>0.424</td>\n",
       "      <td>0.269</td>\n",
       "      <td>0.380</td>\n",
       "      <td>23543</td>\n",
       "    </tr>\n",
       "    <tr>\n",
       "      <th>Feature added</th>\n",
       "      <td>0.822</td>\n",
       "      <td>0.724</td>\n",
       "      <td>0.206</td>\n",
       "      <td>0.421</td>\n",
       "      <td>0.277</td>\n",
       "      <td>0.381</td>\n",
       "      <td>25423</td>\n",
       "    </tr>\n",
       "  </tbody>\n",
       "</table>\n",
       "</div>"
      ],
      "text/plain": [
       "               Accuracy  AUROC  Precision  Recall  F1-Score  FBeta-Score  \\\n",
       "Without FE        0.813  0.720      0.196   0.424     0.269        0.380   \n",
       "Feature added     0.822  0.724      0.206   0.421     0.277        0.381   \n",
       "\n",
       "               Business_score  \n",
       "Without FE              23543  \n",
       "Feature added           25423  "
      ]
     },
     "execution_count": 8,
     "metadata": {},
     "output_type": "execute_result"
    }
   ],
   "source": [
    "pd.concat([gbm_cv_no_fe, gbm_cv_add_fe])"
   ]
  },
  {
   "cell_type": "markdown",
   "metadata": {},
   "source": [
    "---"
   ]
  },
  {
   "cell_type": "markdown",
   "metadata": {},
   "source": [
    "**Business score improvement of ~2000**"
   ]
  },
  {
   "cell_type": "markdown",
   "metadata": {
    "toc-hr-collapsed": true
   },
   "source": [
    "### Feature Selection"
   ]
  },
  {
   "cell_type": "markdown",
   "metadata": {},
   "source": [
    "Here we are going to evaluate differents ways of performing feature selection in order to optimize our score."
   ]
  },
  {
   "cell_type": "markdown",
   "metadata": {
    "heading_collapsed": true
   },
   "source": [
    "#### Random Forest"
   ]
  },
  {
   "cell_type": "code",
   "execution_count": 8,
   "metadata": {
    "ExecuteTime": {
     "end_time": "2021-10-16T14:09:46.372078Z",
     "start_time": "2021-10-16T14:09:46.309021Z"
    },
    "hidden": true
   },
   "outputs": [],
   "source": [
    "grid = {\n",
    "    'max_depth': np.linspace(5,15,5).astype('int'), #Top 1 \n",
    "    'min_samples_split': np.linspace(50,300,5).astype('int'),\n",
    "}"
   ]
  },
  {
   "cell_type": "markdown",
   "metadata": {
    "heading_collapsed": true,
    "hidden": true
   },
   "source": [
    "##### Without FS"
   ]
  },
  {
   "cell_type": "code",
   "execution_count": 9,
   "metadata": {
    "ExecuteTime": {
     "end_time": "2021-10-16T14:14:01.700169Z",
     "start_time": "2021-10-16T14:09:46.373080Z"
    },
    "collapsed": true,
    "hidden": true,
    "tags": []
   },
   "outputs": [
    {
     "name": "stdout",
     "output_type": "stream",
     "text": [
      "----------------Handling Outliers-----------------\n",
      "(DAYS_EMPLOYED) 55374 anomalous values found.\n",
      "4 XNAs found in CODE_GENDER\n",
      "55374 XNAs found in ORGANIZATION_TYPE\n",
      "\n",
      "---------------------Encoding---------------------\n",
      "3 columns were label encoded.\n",
      "119 columns were one-hot encoded.\n",
      "\n",
      "-----------Splitting in train/test set------------\n",
      "train: (246008, 241)\n",
      "test: (61503, 241)\n",
      "\n",
      "------------------Handling NaNs-------------------\n",
      "train: 6751520 nans found.\n",
      "Imputing with <class 'sklearn.impute._base.SimpleImputer'> \n",
      "Strategy: median ; Params: {}\n",
      "test:  1691948 nans found.\n",
      "Imputing with <class 'sklearn.impute._base.SimpleImputer'> \n",
      "Strategy: median ; Params: {}\n",
      "\n",
      "-----------------Adding Features------------------\n",
      "train: Features added.\n",
      "test:  Features added.\n",
      "\n",
      "---------------------Scaling----------------------\n",
      "Scaling with <class 'sklearn.preprocessing._data.MinMaxScaler'> \n",
      "Params: {}\n",
      "\n",
      "(30000, 248)\n",
      "(30000,)\n",
      "0    0.919267\n",
      "1    0.080733\n",
      "Name: TARGET, dtype: float64\n",
      "Fitting 5 folds for each of 25 candidates, totalling 125 fits\n",
      "RandomForestClassifier(class_weight='balanced_subsample', max_depth=15,\n",
      "                       min_samples_split=112, n_estimators=200,\n",
      "                       random_state=42)\n",
      "Wall time: 4min 15s\n"
     ]
    }
   ],
   "source": [
    "%%time\n",
    "X_train_2, y_train_2, X_test_2, y_test_2 = preprocessing_fe(df_2, delete_correl=False, adding_f=True)\n",
    "X_train_s2, y_train_s2 = sample_data(X_train_2, y_train_2, nb_samples=30000)\n",
    "\n",
    "rf_cv = train_model(X_train_s2, y_train_s2, RandomForestClassifier(random_state=42, class_weight='balanced_subsample', n_estimators=200), grid=grid, scoring=business_scoring)\n",
    "print(rf_cv.best_estimator_)\n",
    "rf_cv_no_fs = classif_score(y_test_2, X_test_2, rf_cv.best_estimator_, 'Without FS', display_cm=False)"
   ]
  },
  {
   "cell_type": "markdown",
   "metadata": {
    "heading_collapsed": true,
    "hidden": true
   },
   "source": [
    "##### Correlated features"
   ]
  },
  {
   "cell_type": "code",
   "execution_count": 10,
   "metadata": {
    "ExecuteTime": {
     "end_time": "2021-10-16T14:17:59.959734Z",
     "start_time": "2021-10-16T14:14:01.701171Z"
    },
    "hidden": true,
    "scrolled": true,
    "tags": []
   },
   "outputs": [
    {
     "name": "stdout",
     "output_type": "stream",
     "text": [
      "----------------Handling Outliers-----------------\n",
      "(DAYS_EMPLOYED) 55374 anomalous values found.\n",
      "4 XNAs found in CODE_GENDER\n",
      "55374 XNAs found in ORGANIZATION_TYPE\n",
      "\n",
      "---------------------Encoding---------------------\n",
      "3 columns were label encoded.\n",
      "119 columns were one-hot encoded.\n",
      "\n",
      "-----------Splitting in train/test set------------\n",
      "train: (246008, 210)\n",
      "test: (61503, 210)\n",
      "\n",
      "------------------Handling NaNs-------------------\n",
      "train: 2727123 nans found.\n",
      "Imputing with <class 'sklearn.impute._base.SimpleImputer'> \n",
      "Strategy: median ; Params: {}\n",
      "test:  683164 nans found.\n",
      "Imputing with <class 'sklearn.impute._base.SimpleImputer'> \n",
      "Strategy: median ; Params: {}\n",
      "\n",
      "-----------------Adding Features------------------\n",
      "train: Features added.\n",
      "test:  Features added.\n",
      "\n",
      "---------------------Scaling----------------------\n",
      "Scaling with <class 'sklearn.preprocessing._data.MinMaxScaler'> \n",
      "Params: {}\n",
      "\n",
      "(30000, 217)\n",
      "(30000,)\n",
      "0    0.919267\n",
      "1    0.080733\n",
      "Name: TARGET, dtype: float64\n",
      "Fitting 5 folds for each of 25 candidates, totalling 125 fits\n",
      "RandomForestClassifier(class_weight='balanced_subsample', max_depth=15,\n",
      "                       min_samples_split=50, n_estimators=200, random_state=42)\n",
      "Wall time: 3min 58s\n"
     ]
    }
   ],
   "source": [
    "%%time\n",
    "\n",
    "X_train_2, y_train_2, X_test_2, y_test_2 = preprocessing_fe(df_2, delete_correl=True, adding_f=True)\n",
    "X_train_s2, y_train_s2 = sample_data(X_train_2, y_train_2, nb_samples=30000)\n",
    "\n",
    "rf_cv = train_model(X_train_s2, y_train_s2, RandomForestClassifier(random_state=42, class_weight='balanced_subsample', n_estimators=200), grid=grid, scoring=business_scoring)\n",
    "print(rf_cv.best_estimator_)\n",
    "rf_cv_delete_correl = classif_score(y_test_2, X_test_2, rf_cv.best_estimator_, 'Deleted Correl', display_cm=False)"
   ]
  },
  {
   "cell_type": "markdown",
   "metadata": {
    "heading_collapsed": true,
    "hidden": true
   },
   "source": [
    "##### Low variance features"
   ]
  },
  {
   "cell_type": "code",
   "execution_count": 25,
   "metadata": {
    "ExecuteTime": {
     "end_time": "2021-10-16T15:05:33.109817Z",
     "start_time": "2021-10-16T15:01:52.306924Z"
    },
    "hidden": true,
    "scrolled": true,
    "tags": []
   },
   "outputs": [
    {
     "name": "stdout",
     "output_type": "stream",
     "text": [
      "----------------Handling Outliers-----------------\n",
      "(DAYS_EMPLOYED) 55374 anomalous values found.\n",
      "4 XNAs found in CODE_GENDER\n",
      "55374 XNAs found in ORGANIZATION_TYPE\n",
      "\n",
      "---------------------Encoding---------------------\n",
      "3 columns were label encoded.\n",
      "119 columns were one-hot encoded.\n",
      "\n",
      "-----------Splitting in train/test set------------\n",
      "train: (246008, 241)\n",
      "test: (61503, 241)\n",
      "\n",
      "------------------Handling NaNs-------------------\n",
      "train: 6751520 nans found.\n",
      "Imputing with <class 'sklearn.impute._base.SimpleImputer'> \n",
      "Strategy: median ; Params: {}\n",
      "test:  1691948 nans found.\n",
      "Imputing with <class 'sklearn.impute._base.SimpleImputer'> \n",
      "Strategy: median ; Params: {}\n",
      "\n",
      "-----------------Adding Features------------------\n",
      "train: Features added.\n",
      "test:  Features added.\n",
      "\n",
      "----------Deleting low variance features----------\n",
      "With var_th=0.01: 126 columns dropped.\n",
      "\n",
      "---------------------Scaling----------------------\n",
      "Scaling with <class 'sklearn.preprocessing._data.MinMaxScaler'> \n",
      "Params: {}\n",
      "\n",
      "(30000, 122)\n",
      "(30000,)\n",
      "0    0.919267\n",
      "1    0.080733\n",
      "Name: TARGET, dtype: float64\n",
      "Fitting 5 folds for each of 25 candidates, totalling 125 fits\n",
      "RandomForestClassifier(class_weight='balanced_subsample', max_depth=15,\n",
      "                       min_samples_split=112, n_estimators=200,\n",
      "                       random_state=42)\n"
     ]
    }
   ],
   "source": [
    "X_train_2, y_train_2, X_test_2, y_test_2 = preprocessing_fe(df_2, delete_correl=False, adding_f=True, low_var=True, var_th=0.01)\n",
    "X_train_s2, y_train_s2 = sample_data(X_train_2, y_train_2, nb_samples=30000)\n",
    "\n",
    "rf_cv = train_model(X_train_s2, y_train_s2, RandomForestClassifier(random_state=42,class_weight='balanced_subsample',  n_estimators=200), grid=grid, scoring=business_scoring)\n",
    "print(rf_cv.best_estimator_)\n",
    "rf_cv_delete_low_var = classif_score(y_test_2, X_test_2, rf_cv.best_estimator_, 'Deleted Low Var', display_cm=False)"
   ]
  },
  {
   "cell_type": "markdown",
   "metadata": {
    "heading_collapsed": true,
    "hidden": true
   },
   "source": [
    "##### Low variance and correlated features"
   ]
  },
  {
   "cell_type": "code",
   "execution_count": 12,
   "metadata": {
    "ExecuteTime": {
     "end_time": "2021-10-16T14:25:00.762155Z",
     "start_time": "2021-10-16T14:21:37.035579Z"
    },
    "hidden": true,
    "scrolled": true,
    "tags": []
   },
   "outputs": [
    {
     "name": "stdout",
     "output_type": "stream",
     "text": [
      "----------------Handling Outliers-----------------\n",
      "(DAYS_EMPLOYED) 55374 anomalous values found.\n",
      "4 XNAs found in CODE_GENDER\n",
      "55374 XNAs found in ORGANIZATION_TYPE\n",
      "\n",
      "---------------------Encoding---------------------\n",
      "3 columns were label encoded.\n",
      "119 columns were one-hot encoded.\n",
      "\n",
      "-----------Splitting in train/test set------------\n",
      "train: (246008, 210)\n",
      "test: (61503, 210)\n",
      "\n",
      "------------------Handling NaNs-------------------\n",
      "train: 2727123 nans found.\n",
      "Imputing with <class 'sklearn.impute._base.SimpleImputer'> \n",
      "Strategy: median ; Params: {}\n",
      "test:  683164 nans found.\n",
      "Imputing with <class 'sklearn.impute._base.SimpleImputer'> \n",
      "Strategy: median ; Params: {}\n",
      "\n",
      "-----------------Adding Features------------------\n",
      "train: Features added.\n",
      "test:  Features added.\n",
      "\n",
      "----------Deleting low variance features----------\n",
      "With var_th=0.01: 101 columns dropped.\n",
      "\n",
      "---------------------Scaling----------------------\n",
      "Scaling with <class 'sklearn.preprocessing._data.MinMaxScaler'> \n",
      "Params: {}\n",
      "\n",
      "(30000, 116)\n",
      "(30000,)\n",
      "0    0.919267\n",
      "1    0.080733\n",
      "Name: TARGET, dtype: float64\n",
      "Fitting 5 folds for each of 25 candidates, totalling 125 fits\n",
      "RandomForestClassifier(class_weight='balanced_subsample', max_depth=15,\n",
      "                       min_samples_split=112, n_estimators=200,\n",
      "                       random_state=42)\n",
      "Wall time: 3min 23s\n"
     ]
    }
   ],
   "source": [
    "%%time\n",
    "\n",
    "X_train_2, y_train_2, X_test_2, y_test_2 = preprocessing_fe(df_2, delete_correl=True, adding_f=True, low_var=True, var_th=0.01)\n",
    "X_train_s2, y_train_s2 = sample_data(X_train_2, y_train_2, nb_samples=30000)\n",
    "\n",
    "rf_cv = train_model(X_train_s2, y_train_s2, RandomForestClassifier(random_state=42, class_weight='balanced_subsample', n_estimators=200), grid=grid, scoring=business_scoring)\n",
    "print(rf_cv.best_estimator_)\n",
    "rf_cv_delete_correl_and_low_var = classif_score(y_test_2, X_test_2, rf_cv.best_estimator_, 'Deleted Low Var + correl', display_cm=False)"
   ]
  },
  {
   "cell_type": "markdown",
   "metadata": {
    "hidden": true
   },
   "source": [
    "##### Low features importance"
   ]
  },
  {
   "cell_type": "code",
   "execution_count": 13,
   "metadata": {
    "ExecuteTime": {
     "end_time": "2021-10-16T14:29:12.924735Z",
     "start_time": "2021-10-16T14:25:00.763155Z"
    },
    "hidden": true,
    "tags": []
   },
   "outputs": [
    {
     "name": "stdout",
     "output_type": "stream",
     "text": [
      "----------------Handling Outliers-----------------\n",
      "(DAYS_EMPLOYED) 55374 anomalous values found.\n",
      "4 XNAs found in CODE_GENDER\n",
      "55374 XNAs found in ORGANIZATION_TYPE\n",
      "\n",
      "---------------------Encoding---------------------\n",
      "3 columns were label encoded.\n",
      "119 columns were one-hot encoded.\n",
      "\n",
      "-----------Splitting in train/test set------------\n",
      "train: (246008, 241)\n",
      "test: (61503, 241)\n",
      "\n",
      "------------------Handling NaNs-------------------\n",
      "train: 6751520 nans found.\n",
      "Imputing with <class 'sklearn.impute._base.SimpleImputer'> \n",
      "Strategy: median ; Params: {}\n",
      "test:  1691948 nans found.\n",
      "Imputing with <class 'sklearn.impute._base.SimpleImputer'> \n",
      "Strategy: median ; Params: {}\n",
      "\n",
      "-----------------Adding Features------------------\n",
      "train: Features added.\n",
      "test:  Features added.\n",
      "\n",
      "-----Deleting with model features importance------\n",
      "With threshold=mean: 205 columns dropped.\n",
      "\n",
      "---------------------Scaling----------------------\n",
      "Scaling with <class 'sklearn.preprocessing._data.MinMaxScaler'> \n",
      "Params: {}\n",
      "\n",
      "(30000, 43)\n",
      "(30000,)\n",
      "0    0.919267\n",
      "1    0.080733\n",
      "Name: TARGET, dtype: float64\n",
      "Fitting 5 folds for each of 25 candidates, totalling 125 fits\n",
      "RandomForestClassifier(max_depth=15, min_samples_split=50, n_estimators=200,\n",
      "                       random_state=42)\n",
      "Wall time: 4min 12s\n"
     ]
    }
   ],
   "source": [
    "%%time\n",
    "\n",
    "X_train_2, y_train_2, X_test_2, y_test_2 = preprocessing_fe(df_2, delete_correl=False, adding_f=True, from_model=True)\n",
    "X_train_s2, y_train_s2 = sample_data(X_train_2, y_train_2, nb_samples=30000)\n",
    "\n",
    "rf_cv = train_model(X_train_s2, y_train_s2, RandomForestClassifier(random_state=42, n_estimators=200), grid=grid, scoring=business_scoring)\n",
    "print(rf_cv.best_estimator_)\n",
    "rf_cv_delete_with_model = classif_score(y_test_2, X_test_2, rf_cv.best_estimator_, 'Deleted with model', display_cm=False)"
   ]
  },
  {
   "cell_type": "markdown",
   "metadata": {
    "hidden": true
   },
   "source": [
    "##### Results"
   ]
  },
  {
   "cell_type": "code",
   "execution_count": 29,
   "metadata": {
    "ExecuteTime": {
     "end_time": "2021-10-16T15:26:14.371448Z",
     "start_time": "2021-10-16T15:26:14.303881Z"
    },
    "hidden": true
   },
   "outputs": [
    {
     "data": {
      "text/html": [
       "<div>\n",
       "<style scoped>\n",
       "    .dataframe tbody tr th:only-of-type {\n",
       "        vertical-align: middle;\n",
       "    }\n",
       "\n",
       "    .dataframe tbody tr th {\n",
       "        vertical-align: top;\n",
       "    }\n",
       "\n",
       "    .dataframe thead th {\n",
       "        text-align: right;\n",
       "    }\n",
       "</style>\n",
       "<table border=\"1\" class=\"dataframe\">\n",
       "  <thead>\n",
       "    <tr style=\"text-align: right;\">\n",
       "      <th></th>\n",
       "      <th>Accuracy</th>\n",
       "      <th>AUROC</th>\n",
       "      <th>Precision</th>\n",
       "      <th>Recall</th>\n",
       "      <th>F1-Score</th>\n",
       "      <th>FBeta-Score</th>\n",
       "      <th>Business_score</th>\n",
       "    </tr>\n",
       "  </thead>\n",
       "  <tbody>\n",
       "    <tr>\n",
       "      <th>Without FS</th>\n",
       "      <td>0.854</td>\n",
       "      <td>0.732</td>\n",
       "      <td>0.234</td>\n",
       "      <td>0.353</td>\n",
       "      <td>0.281</td>\n",
       "      <td>0.336</td>\n",
       "      <td>27595</td>\n",
       "    </tr>\n",
       "    <tr>\n",
       "      <th>Deleted Correl</th>\n",
       "      <td>0.871</td>\n",
       "      <td>0.736</td>\n",
       "      <td>0.248</td>\n",
       "      <td>0.292</td>\n",
       "      <td>0.268</td>\n",
       "      <td>0.287</td>\n",
       "      <td>26668</td>\n",
       "    </tr>\n",
       "    <tr>\n",
       "      <th>Deleted Low Var</th>\n",
       "      <td>0.852</td>\n",
       "      <td>0.746</td>\n",
       "      <td>0.238</td>\n",
       "      <td>0.379</td>\n",
       "      <td>0.293</td>\n",
       "      <td>0.358</td>\n",
       "      <td>29243</td>\n",
       "    </tr>\n",
       "    <tr>\n",
       "      <th>Deleted Low Var + correl</th>\n",
       "      <td>0.854</td>\n",
       "      <td>0.742</td>\n",
       "      <td>0.233</td>\n",
       "      <td>0.352</td>\n",
       "      <td>0.281</td>\n",
       "      <td>0.335</td>\n",
       "      <td>27546</td>\n",
       "    </tr>\n",
       "    <tr>\n",
       "      <th>Deleted with model</th>\n",
       "      <td>0.919</td>\n",
       "      <td>0.718</td>\n",
       "      <td>1.000</td>\n",
       "      <td>0.000</td>\n",
       "      <td>0.001</td>\n",
       "      <td>0.000</td>\n",
       "      <td>13818</td>\n",
       "    </tr>\n",
       "  </tbody>\n",
       "</table>\n",
       "</div>"
      ],
      "text/plain": [
       "                          Accuracy  AUROC  Precision  Recall  F1-Score  \\\n",
       "Without FS                   0.854  0.732      0.234   0.353     0.281   \n",
       "Deleted Correl               0.871  0.736      0.248   0.292     0.268   \n",
       "Deleted Low Var              0.852  0.746      0.238   0.379     0.293   \n",
       "Deleted Low Var + correl     0.854  0.742      0.233   0.352     0.281   \n",
       "Deleted with model           0.919  0.718      1.000   0.000     0.001   \n",
       "\n",
       "                          FBeta-Score  Business_score  \n",
       "Without FS                      0.336           27595  \n",
       "Deleted Correl                  0.287           26668  \n",
       "Deleted Low Var                 0.358           29243  \n",
       "Deleted Low Var + correl        0.335           27546  \n",
       "Deleted with model              0.000           13818  "
      ]
     },
     "execution_count": 29,
     "metadata": {},
     "output_type": "execute_result"
    }
   ],
   "source": [
    "pd.concat([rf_cv_no_fs, rf_cv_delete_correl, rf_cv_delete_low_var, rf_cv_delete_correl_and_low_var, rf_cv_delete_with_model])"
   ]
  },
  {
   "cell_type": "markdown",
   "metadata": {
    "hidden": true
   },
   "source": [
    "---"
   ]
  },
  {
   "cell_type": "markdown",
   "metadata": {
    "hidden": true
   },
   "source": [
    "**Best amelioration with the suppresion of low variance + correlated variables (~1100)**"
   ]
  },
  {
   "cell_type": "markdown",
   "metadata": {},
   "source": [
    "#### LBGM"
   ]
  },
  {
   "cell_type": "code",
   "execution_count": 9,
   "metadata": {
    "ExecuteTime": {
     "end_time": "2021-10-16T22:59:17.978592Z",
     "start_time": "2021-10-16T22:59:17.899521Z"
    }
   },
   "outputs": [],
   "source": [
    "grid = {\n",
    "      'num_leaves':np.linspace(25, 100, 4).astype('int'),\n",
    "      'max_depth': np.linspace(1,5,3).astype('int'), # weak learner\n",
    "      'reg_alpha': [0, 0.5, 1], # np.linspace(0,1,4),\n",
    "      'reg_lambda': [0, 0.5, 1], # np.linspace(0,1,4)\n",
    "}"
   ]
  },
  {
   "cell_type": "markdown",
   "metadata": {},
   "source": [
    "##### Without FS"
   ]
  },
  {
   "cell_type": "code",
   "execution_count": 10,
   "metadata": {
    "ExecuteTime": {
     "end_time": "2021-10-16T23:05:54.275566Z",
     "start_time": "2021-10-16T22:59:17.979594Z"
    },
    "tags": []
   },
   "outputs": [
    {
     "name": "stdout",
     "output_type": "stream",
     "text": [
      "----------------Handling Outliers-----------------\n",
      "(DAYS_EMPLOYED) 55374 anomalous values found.\n",
      "4 XNAs found in CODE_GENDER\n",
      "55374 XNAs found in ORGANIZATION_TYPE\n",
      "\n",
      "---------------------Encoding---------------------\n",
      "3 columns were label encoded.\n",
      "119 columns were one-hot encoded.\n",
      "\n",
      "-----------Splitting in train/test set------------\n",
      "train: (246008, 241)\n",
      "test: (61503, 241)\n",
      "\n",
      "------------------Handling NaNs-------------------\n",
      "train:  Imputing with <class 'sklearn.impute._base.SimpleImputer'> \n",
      "Strategy: median ; Params: {}\n",
      "test:  1691948 nans found.\n",
      "\n",
      "-----------------Adding Features------------------\n",
      "train: Features added.\n",
      "test:  Features added.\n",
      "\n",
      "---------------------Scaling----------------------\n",
      "Scaling with <class 'sklearn.preprocessing._data.MinMaxScaler'> \n",
      "Params: {}\n",
      "\n",
      "(30000, 247)\n",
      "(30000,)\n",
      "0    0.919267\n",
      "1    0.080733\n",
      "Name: TARGET, dtype: float64\n",
      "Fitting 5 folds for each of 108 candidates, totalling 540 fits\n",
      "LGBMClassifier(class_weight='balanced', learning_rate=0.2, max_depth=5,\n",
      "               n_estimators=200, num_leaves=50, random_state=42, reg_alpha=0.5,\n",
      "               reg_lambda=0.5)\n",
      "Wall time: 6min 36s\n"
     ]
    }
   ],
   "source": [
    "%%time \n",
    "X_train_2, y_train_2, X_test_2, y_test_2 = preprocessing_fe(df_2, delete_correl=False, adding_f=True, low_var=False)\n",
    "X_train_s2, y_train_s2 = sample_data(X_train_2, y_train_2, nb_samples=30000)\n",
    "\n",
    "gbm_cv = train_model(X_train_s2.values, y_train_s2.values, lgb.LGBMClassifier(random_state=42, learning_rate=0.2, n_estimators=200, class_weight='balanced'), grid=grid, scoring=business_scoring)\n",
    "print(gbm_cv.best_estimator_)\n",
    "gbm_cv_no_fs = classif_score(y_test_2, X_test_2, gbm_cv.best_estimator_, 'Without FSelection', display_cm=False)"
   ]
  },
  {
   "cell_type": "markdown",
   "metadata": {},
   "source": [
    "##### Correlated features"
   ]
  },
  {
   "cell_type": "code",
   "execution_count": 11,
   "metadata": {
    "ExecuteTime": {
     "end_time": "2021-10-16T23:11:38.341395Z",
     "start_time": "2021-10-16T23:05:54.276567Z"
    },
    "tags": []
   },
   "outputs": [
    {
     "name": "stdout",
     "output_type": "stream",
     "text": [
      "----------------Handling Outliers-----------------\n",
      "(DAYS_EMPLOYED) 55374 anomalous values found.\n",
      "4 XNAs found in CODE_GENDER\n",
      "55374 XNAs found in ORGANIZATION_TYPE\n",
      "\n",
      "---------------------Encoding---------------------\n",
      "3 columns were label encoded.\n",
      "119 columns were one-hot encoded.\n",
      "\n",
      "-----------Splitting in train/test set------------\n",
      "train: (246008, 210)\n",
      "test: (61503, 210)\n",
      "\n",
      "------------------Handling NaNs-------------------\n",
      "train:  Imputing with <class 'sklearn.impute._base.SimpleImputer'> \n",
      "Strategy: median ; Params: {}\n",
      "test:  683164 nans found.\n",
      "\n",
      "-----------------Adding Features------------------\n",
      "train: Features added.\n",
      "test:  Features added.\n",
      "\n",
      "---------------------Scaling----------------------\n",
      "Scaling with <class 'sklearn.preprocessing._data.MinMaxScaler'> \n",
      "Params: {}\n",
      "\n",
      "(30000, 216)\n",
      "(30000,)\n",
      "0    0.919267\n",
      "1    0.080733\n",
      "Name: TARGET, dtype: float64\n",
      "Fitting 5 folds for each of 108 candidates, totalling 540 fits\n",
      "LGBMClassifier(class_weight='balanced', learning_rate=0.2, max_depth=5,\n",
      "               n_estimators=200, num_leaves=25, random_state=42, reg_alpha=0.5,\n",
      "               reg_lambda=1)\n",
      "Wall time: 5min 44s\n"
     ]
    }
   ],
   "source": [
    "%%time\n",
    "X_train_2, y_train_2, X_test_2, y_test_2 = preprocessing_fe(df_2, delete_correl=True, adding_f=True, low_var=False)\n",
    "X_train_s2, y_train_s2 = sample_data(X_train_2, y_train_2, nb_samples=30000)\n",
    "\n",
    "gbm_cv = train_model(X_train_s2.values, y_train_s2.values, lgb.LGBMClassifier(random_state=42, learning_rate=0.2, n_estimators=200, class_weight='balanced'), grid=grid, scoring=business_scoring)\n",
    "print(gbm_cv.best_estimator_)\n",
    "gbm_cv_delete_correl = classif_score(y_test_2, X_test_2, gbm_cv.best_estimator_, 'Deleted Correl', display_cm=False)"
   ]
  },
  {
   "cell_type": "markdown",
   "metadata": {},
   "source": [
    "##### Low variance features"
   ]
  },
  {
   "cell_type": "code",
   "execution_count": 12,
   "metadata": {
    "ExecuteTime": {
     "end_time": "2021-10-16T23:15:09.293341Z",
     "start_time": "2021-10-16T23:11:38.342396Z"
    },
    "scrolled": true,
    "tags": []
   },
   "outputs": [
    {
     "name": "stdout",
     "output_type": "stream",
     "text": [
      "----------------Handling Outliers-----------------\n",
      "(DAYS_EMPLOYED) 55374 anomalous values found.\n",
      "4 XNAs found in CODE_GENDER\n",
      "55374 XNAs found in ORGANIZATION_TYPE\n",
      "\n",
      "---------------------Encoding---------------------\n",
      "3 columns were label encoded.\n",
      "119 columns were one-hot encoded.\n",
      "\n",
      "-----------Splitting in train/test set------------\n",
      "train: (246008, 241)\n",
      "test: (61503, 241)\n",
      "\n",
      "------------------Handling NaNs-------------------\n",
      "train:  Imputing with <class 'sklearn.impute._base.SimpleImputer'> \n",
      "Strategy: median ; Params: {}\n",
      "test:  1691948 nans found.\n",
      "\n",
      "-----------------Adding Features------------------\n",
      "train: Features added.\n",
      "test:  Features added.\n",
      "\n",
      "----------Deleting low variance features----------\n",
      "With var_th=0.01: 125 columns dropped.\n",
      "\n",
      "---------------------Scaling----------------------\n",
      "Scaling with <class 'sklearn.preprocessing._data.MinMaxScaler'> \n",
      "Params: {}\n",
      "\n",
      "(30000, 122)\n",
      "(30000,)\n",
      "0    0.919267\n",
      "1    0.080733\n",
      "Name: TARGET, dtype: float64\n",
      "Fitting 5 folds for each of 108 candidates, totalling 540 fits\n",
      "LGBMClassifier(class_weight='balanced', learning_rate=0.2, max_depth=5,\n",
      "               n_estimators=200, num_leaves=50, random_state=42, reg_alpha=1,\n",
      "               reg_lambda=0.5)\n",
      "Wall time: 3min 30s\n"
     ]
    }
   ],
   "source": [
    "%%time\n",
    "X_train_2, y_train_2, X_test_2, y_test_2 = preprocessing_fe(df_2, delete_correl=False, adding_f=True, low_var=True)\n",
    "X_train_s2, y_train_s2 = sample_data(X_train_2, y_train_2, nb_samples=30000)\n",
    "\n",
    "gbm_cv = train_model(X_train_s2.values, y_train_s2.values, lgb.LGBMClassifier(random_state=42, learning_rate=0.2, n_estimators=200, class_weight='balanced'), grid=grid, scoring=business_scoring)\n",
    "print(gbm_cv.best_estimator_)\n",
    "gbm_cv_low_var = classif_score(y_test_2, X_test_2, gbm_cv.best_estimator_, 'Deleted low variance', display_cm=False)"
   ]
  },
  {
   "cell_type": "markdown",
   "metadata": {},
   "source": [
    "##### Low variance and correlated features"
   ]
  },
  {
   "cell_type": "code",
   "execution_count": 13,
   "metadata": {
    "ExecuteTime": {
     "end_time": "2021-10-16T23:18:28.235376Z",
     "start_time": "2021-10-16T23:15:09.295343Z"
    },
    "scrolled": true,
    "tags": []
   },
   "outputs": [
    {
     "name": "stdout",
     "output_type": "stream",
     "text": [
      "----------------Handling Outliers-----------------\n",
      "(DAYS_EMPLOYED) 55374 anomalous values found.\n",
      "4 XNAs found in CODE_GENDER\n",
      "55374 XNAs found in ORGANIZATION_TYPE\n",
      "\n",
      "---------------------Encoding---------------------\n",
      "3 columns were label encoded.\n",
      "119 columns were one-hot encoded.\n",
      "\n",
      "-----------Splitting in train/test set------------\n",
      "train: (246008, 210)\n",
      "test: (61503, 210)\n",
      "\n",
      "------------------Handling NaNs-------------------\n",
      "train:  Imputing with <class 'sklearn.impute._base.SimpleImputer'> \n",
      "Strategy: median ; Params: {}\n",
      "test:  683164 nans found.\n",
      "\n",
      "-----------------Adding Features------------------\n",
      "train: Features added.\n",
      "test:  Features added.\n",
      "\n",
      "----------Deleting low variance features----------\n",
      "With var_th=0.01: 100 columns dropped.\n",
      "\n",
      "---------------------Scaling----------------------\n",
      "Scaling with <class 'sklearn.preprocessing._data.MinMaxScaler'> \n",
      "Params: {}\n",
      "\n",
      "(30000, 116)\n",
      "(30000,)\n",
      "0    0.919267\n",
      "1    0.080733\n",
      "Name: TARGET, dtype: float64\n",
      "Fitting 5 folds for each of 108 candidates, totalling 540 fits\n",
      "LGBMClassifier(class_weight='balanced', learning_rate=0.2, max_depth=5,\n",
      "               n_estimators=200, num_leaves=50, random_state=42, reg_alpha=1,\n",
      "               reg_lambda=1)\n",
      "Wall time: 3min 18s\n"
     ]
    }
   ],
   "source": [
    "%%time\n",
    "\n",
    "X_train_2, y_train_2, X_test_2, y_test_2 = preprocessing_fe(df_2, delete_correl=True, adding_f=True, low_var=True)\n",
    "X_train_s2, y_train_s2 = sample_data(X_train_2, y_train_2, nb_samples=30000)\n",
    "\n",
    "gbm_cv = train_model(X_train_s2.values, y_train_s2.values, lgb.LGBMClassifier(random_state=42, learning_rate=0.2, n_estimators=200, class_weight='balanced'), grid=grid, scoring=business_scoring)\n",
    "print(gbm_cv.best_estimator_)\n",
    "gbm_cv_delete_correl_and_low_var = classif_score(y_test_2, X_test_2, gbm_cv.best_estimator_, 'Deleted correl + low variance', display_cm=False)"
   ]
  },
  {
   "cell_type": "markdown",
   "metadata": {},
   "source": [
    "##### Low features importance"
   ]
  },
  {
   "cell_type": "code",
   "execution_count": 14,
   "metadata": {
    "ExecuteTime": {
     "end_time": "2021-10-16T23:20:10.253714Z",
     "start_time": "2021-10-16T23:18:28.236378Z"
    },
    "scrolled": true,
    "tags": []
   },
   "outputs": [
    {
     "name": "stdout",
     "output_type": "stream",
     "text": [
      "----------------Handling Outliers-----------------\n",
      "(DAYS_EMPLOYED) 55374 anomalous values found.\n",
      "4 XNAs found in CODE_GENDER\n",
      "55374 XNAs found in ORGANIZATION_TYPE\n",
      "\n",
      "---------------------Encoding---------------------\n",
      "3 columns were label encoded.\n",
      "119 columns were one-hot encoded.\n",
      "\n",
      "-----------Splitting in train/test set------------\n",
      "train: (246008, 241)\n",
      "test: (61503, 241)\n",
      "\n",
      "------------------Handling NaNs-------------------\n",
      "train:  Imputing with <class 'sklearn.impute._base.SimpleImputer'> \n",
      "Strategy: median ; Params: {}\n",
      "test:  1691948 nans found.\n",
      "\n",
      "-----------------Adding Features------------------\n",
      "train: Features added.\n",
      "test:  Features added.\n",
      "\n",
      "-----Deleting with model features importance------\n",
      "With threshold=mean: 208 columns dropped.\n",
      "\n",
      "---------------------Scaling----------------------\n",
      "Scaling with <class 'sklearn.preprocessing._data.MinMaxScaler'> \n",
      "Params: {}\n",
      "\n",
      "(30000, 39)\n",
      "(30000,)\n",
      "0    0.919267\n",
      "1    0.080733\n",
      "Name: TARGET, dtype: float64\n",
      "Fitting 5 folds for each of 108 candidates, totalling 540 fits\n",
      "LGBMClassifier(class_weight='balanced', learning_rate=0.2, max_depth=5,\n",
      "               n_estimators=200, num_leaves=25, random_state=42, reg_alpha=1,\n",
      "               reg_lambda=1)\n",
      "Wall time: 1min 41s\n"
     ]
    }
   ],
   "source": [
    "%%time\n",
    "\n",
    "X_train_2, y_train_2, X_test_2, y_test_2 = preprocessing_fe(df_2, delete_correl=False, adding_f=True, low_var=False, from_model=True)\n",
    "X_train_s2, y_train_s2 = sample_data(X_train_2, y_train_2, nb_samples=30000)\n",
    "\n",
    "gbm_cv = train_model(X_train_s2.values, y_train_s2.values, lgb.LGBMClassifier(random_state=42, learning_rate=0.2, n_estimators=200, class_weight='balanced'), grid=grid, scoring=business_scoring)\n",
    "print(gbm_cv.best_estimator_)\n",
    "gbm_cv_delete_with_model = classif_score(y_test_2, X_test_2, gbm_cv.best_estimator_, 'Deleted with model', display_cm=False)"
   ]
  },
  {
   "cell_type": "markdown",
   "metadata": {},
   "source": [
    "##### Results"
   ]
  },
  {
   "cell_type": "code",
   "execution_count": 15,
   "metadata": {
    "ExecuteTime": {
     "end_time": "2021-10-16T23:20:10.333010Z",
     "start_time": "2021-10-16T23:20:10.255716Z"
    },
    "scrolled": false
   },
   "outputs": [
    {
     "data": {
      "text/html": [
       "<div>\n",
       "<style scoped>\n",
       "    .dataframe tbody tr th:only-of-type {\n",
       "        vertical-align: middle;\n",
       "    }\n",
       "\n",
       "    .dataframe tbody tr th {\n",
       "        vertical-align: top;\n",
       "    }\n",
       "\n",
       "    .dataframe thead th {\n",
       "        text-align: right;\n",
       "    }\n",
       "</style>\n",
       "<table border=\"1\" class=\"dataframe\">\n",
       "  <thead>\n",
       "    <tr style=\"text-align: right;\">\n",
       "      <th></th>\n",
       "      <th>Accuracy</th>\n",
       "      <th>AUROC</th>\n",
       "      <th>Precision</th>\n",
       "      <th>Recall</th>\n",
       "      <th>F1-Score</th>\n",
       "      <th>FBeta-Score</th>\n",
       "      <th>Business_score</th>\n",
       "    </tr>\n",
       "  </thead>\n",
       "  <tbody>\n",
       "    <tr>\n",
       "      <th>Without FSelection</th>\n",
       "      <td>0.816</td>\n",
       "      <td>0.720</td>\n",
       "      <td>0.201</td>\n",
       "      <td>0.429</td>\n",
       "      <td>0.274</td>\n",
       "      <td>0.386</td>\n",
       "      <td>24688</td>\n",
       "    </tr>\n",
       "    <tr>\n",
       "      <th>Deleted Correl</th>\n",
       "      <td>0.821</td>\n",
       "      <td>0.729</td>\n",
       "      <td>0.208</td>\n",
       "      <td>0.433</td>\n",
       "      <td>0.281</td>\n",
       "      <td>0.391</td>\n",
       "      <td>26200</td>\n",
       "    </tr>\n",
       "    <tr>\n",
       "      <th>Deleted low variance</th>\n",
       "      <td>0.822</td>\n",
       "      <td>0.724</td>\n",
       "      <td>0.208</td>\n",
       "      <td>0.427</td>\n",
       "      <td>0.280</td>\n",
       "      <td>0.387</td>\n",
       "      <td>26002</td>\n",
       "    </tr>\n",
       "    <tr>\n",
       "      <th>Deleted correl + low variance</th>\n",
       "      <td>0.820</td>\n",
       "      <td>0.724</td>\n",
       "      <td>0.202</td>\n",
       "      <td>0.419</td>\n",
       "      <td>0.273</td>\n",
       "      <td>0.379</td>\n",
       "      <td>24658</td>\n",
       "    </tr>\n",
       "    <tr>\n",
       "      <th>Deleted with model</th>\n",
       "      <td>0.818</td>\n",
       "      <td>0.724</td>\n",
       "      <td>0.204</td>\n",
       "      <td>0.433</td>\n",
       "      <td>0.278</td>\n",
       "      <td>0.390</td>\n",
       "      <td>25452</td>\n",
       "    </tr>\n",
       "  </tbody>\n",
       "</table>\n",
       "</div>"
      ],
      "text/plain": [
       "                               Accuracy  AUROC  Precision  Recall  F1-Score  \\\n",
       "Without FSelection                0.816  0.720      0.201   0.429     0.274   \n",
       "Deleted Correl                    0.821  0.729      0.208   0.433     0.281   \n",
       "Deleted low variance              0.822  0.724      0.208   0.427     0.280   \n",
       "Deleted correl + low variance     0.820  0.724      0.202   0.419     0.273   \n",
       "Deleted with model                0.818  0.724      0.204   0.433     0.278   \n",
       "\n",
       "                               FBeta-Score  Business_score  \n",
       "Without FSelection                   0.386           24688  \n",
       "Deleted Correl                       0.391           26200  \n",
       "Deleted low variance                 0.387           26002  \n",
       "Deleted correl + low variance        0.379           24658  \n",
       "Deleted with model                   0.390           25452  "
      ]
     },
     "execution_count": 15,
     "metadata": {},
     "output_type": "execute_result"
    }
   ],
   "source": [
    "pd.concat([gbm_cv_no_fs, gbm_cv_delete_correl, gbm_cv_low_var, gbm_cv_delete_correl_and_low_var, gbm_cv_delete_with_model])"
   ]
  },
  {
   "cell_type": "markdown",
   "metadata": {},
   "source": [
    "**Best amelioration with suppression of correlated features (+1400)**"
   ]
  },
  {
   "cell_type": "markdown",
   "metadata": {},
   "source": [
    "# Final models"
   ]
  },
  {
   "cell_type": "markdown",
   "metadata": {},
   "source": [
    "Our best model is the random forest, we decide to keep this one"
   ]
  },
  {
   "cell_type": "code",
   "execution_count": 18,
   "metadata": {
    "ExecuteTime": {
     "end_time": "2021-10-16T23:38:37.275008Z",
     "start_time": "2021-10-16T23:35:52.803723Z"
    },
    "collapsed": true
   },
   "outputs": [
    {
     "name": "stdout",
     "output_type": "stream",
     "text": [
      "----------------Handling Outliers-----------------\n",
      "(DAYS_EMPLOYED) 55374 anomalous values found.\n",
      "4 XNAs found in CODE_GENDER\n",
      "55374 XNAs found in ORGANIZATION_TYPE\n",
      "\n",
      "---------------------Encoding---------------------\n",
      "3 columns were label encoded.\n",
      "119 columns were one-hot encoded.\n",
      "\n",
      "-----------Splitting in train/test set------------\n",
      "train: (246008, 241)\n",
      "test: (61503, 241)\n",
      "\n",
      "------------------Handling NaNs-------------------\n",
      "train:  Imputing with <class 'sklearn.impute._base.SimpleImputer'> \n",
      "Strategy: median ; Params: {}\n",
      "test:  1691948 nans found.\n",
      "\n",
      "-----------------Adding Features------------------\n",
      "train: Features added.\n",
      "test:  Features added.\n",
      "\n",
      "----------Deleting low variance features----------\n",
      "With var_th=0.01: 125 columns dropped.\n",
      "\n",
      "---------------------Scaling----------------------\n",
      "Scaling with <class 'sklearn.preprocessing._data.MinMaxScaler'> \n",
      "Params: {}\n",
      "\n"
     ]
    },
    {
     "data": {
      "text/html": [
       "<div>\n",
       "<style scoped>\n",
       "    .dataframe tbody tr th:only-of-type {\n",
       "        vertical-align: middle;\n",
       "    }\n",
       "\n",
       "    .dataframe tbody tr th {\n",
       "        vertical-align: top;\n",
       "    }\n",
       "\n",
       "    .dataframe thead th {\n",
       "        text-align: right;\n",
       "    }\n",
       "</style>\n",
       "<table border=\"1\" class=\"dataframe\">\n",
       "  <thead>\n",
       "    <tr style=\"text-align: right;\">\n",
       "      <th></th>\n",
       "      <th>Accuracy</th>\n",
       "      <th>AUROC</th>\n",
       "      <th>Precision</th>\n",
       "      <th>Recall</th>\n",
       "      <th>F1-Score</th>\n",
       "      <th>FBeta-Score</th>\n",
       "      <th>Business_score</th>\n",
       "    </tr>\n",
       "  </thead>\n",
       "  <tbody>\n",
       "    <tr>\n",
       "      <th></th>\n",
       "      <td>0.81</td>\n",
       "      <td>0.751</td>\n",
       "      <td>0.209</td>\n",
       "      <td>0.484</td>\n",
       "      <td>0.292</td>\n",
       "      <td>0.428</td>\n",
       "      <td>27804</td>\n",
       "    </tr>\n",
       "  </tbody>\n",
       "</table>\n",
       "</div>"
      ],
      "text/plain": [
       "  Accuracy  AUROC  Precision  Recall  F1-Score  FBeta-Score  Business_score\n",
       "      0.81  0.751      0.209   0.484     0.292        0.428           27804"
      ]
     },
     "execution_count": 18,
     "metadata": {},
     "output_type": "execute_result"
    },
    {
     "data": {
      "image/png": "[encoded data removed]",
      "text/plain": [
       "<Figure size 400x400 with 1 Axes>"
      ]
     },
     "metadata": {},
     "output_type": "display_data"
    }
   ],
   "source": [
    "X_train_2, y_train_2, X_test_2, y_test_2, to_ser = preprocessing_fe(df_2, delete_correl=False, adding_f=True, low_var=True, \n",
    "                                                                    var_th=0.01, return_object_to_ser=True)\n",
    "\n",
    "# training with the whole dataset\n",
    "best_model = RandomForestClassifier(random_state=42, \n",
    "                                    n_estimators=200,\n",
    "                                    max_depth=15,\n",
    "                                   min_samples_split=50,\n",
    "                                   class_weight=('balanced_subsample'))\n",
    "\n",
    "best_model.fit(X_train_2, y_train_2)\n",
    "classif_score(y_test_2, X_test_2, best_model, '', display_cm=True)"
   ]
  },
  {
   "cell_type": "code",
   "execution_count": 63,
   "metadata": {
    "ExecuteTime": {
     "end_time": "2021-10-16T22:09:05.537736Z",
     "start_time": "2021-10-16T22:09:05.292514Z"
    }
   },
   "outputs": [],
   "source": [
    "import pickle\n",
    "\n",
    "path_rf = './rf_objects/'\n",
    "\n",
    "scaler_rf = to_ser['scaler']\n",
    "imputer_rf = to_ser['imputer']\n",
    "le_rf = to_ser['le']\n",
    "one_hot_rf = to_ser['one_hot']\n",
    "to_drop = to_ser['to_drop']\n",
    "\n",
    "pickle.dump(best_model, open(path_rf+'rf_best', 'wb'))\n",
    "pickle.dump(scaler_rf, open(path_rf+'scaler_rf', 'wb'))\n",
    "pickle.dump(imputer_rf, open(path_rf+'imputer_rf', 'wb'))\n",
    "pickle.dump(le_rf, open(path_rf+'le_rf', 'wb'))\n",
    "pickle.dump(one_hot_rf, open(path_rf+'one_hot_rf', 'wb'))\n",
    "pickle.dump(to_drop, open(path_rf+'to_drop', 'wb'))\n",
    "\n",
    "pickle.dump(y_test_2, open(path_rf+'y_test_rf', 'wb'))\n",
    "pickle.dump(X_test_2, open(path_rf+'X_test_rf', 'wb'))"
   ]
  },
  {
   "cell_type": "markdown",
   "metadata": {
    "toc-hr-collapsed": true
   },
   "source": [
    "## Choosing the best threshold"
   ]
  },
  {
   "cell_type": "code",
   "execution_count": 19,
   "metadata": {
    "ExecuteTime": {
     "end_time": "2021-10-16T23:38:37.337788Z",
     "start_time": "2021-10-16T23:38:37.276009Z"
    }
   },
   "outputs": [],
   "source": [
    "from sklearn.metrics import precision_recall_curve"
   ]
  },
  {
   "cell_type": "code",
   "execution_count": 20,
   "metadata": {
    "ExecuteTime": {
     "end_time": "2021-10-16T23:38:37.400940Z",
     "start_time": "2021-10-16T23:38:37.338789Z"
    }
   },
   "outputs": [],
   "source": [
    "def plot_business_score_vs_threshold(y_true, y_scores, thresholds=np.linspace(0,1,21)):\n",
    "    b_score = []\n",
    "    for t in thresholds:\n",
    "        y_labels = [1 if y >= t else 0 for y in y_scores]\n",
    "        b_score.append(business_score(y_true, y_labels))\n",
    "        \n",
    "    plt.figure(figsize=(8, 8))\n",
    "    plt.title(\"Business score vs thresholds\")\n",
    "    plt.plot(thresholds, b_score)\n",
    "    plt.ylabel(\"Business score\")\n",
    "    plt.xlabel(\"Threshold\")\n",
    "    plt.xticks(thresholds, rotation=45)\n",
    "    return b_score, thresholds"
   ]
  },
  {
   "cell_type": "code",
   "execution_count": 21,
   "metadata": {
    "ExecuteTime": {
     "end_time": "2021-10-16T23:38:41.034956Z",
     "start_time": "2021-10-16T23:38:37.402847Z"
    }
   },
   "outputs": [
    {
     "data": {
      "image/png": "[encoded data removed]",
      "text/plain": [
       "<Figure size 800x800 with 1 Axes>"
      ]
     },
     "metadata": {},
     "output_type": "display_data"
    }
   ],
   "source": [
    "y_scores = best_model.predict_proba(X_test_2)[:,1]\n",
    "b_scores, ths = plot_business_score_vs_threshold(y_test_2, y_scores)"
   ]
  },
  {
   "cell_type": "markdown",
   "metadata": {},
   "source": [
    "**Best threshold = 0.55**"
   ]
  }
 ],
 "metadata": {
  "accelerator": "GPU",
  "colab": {
   "collapsed_sections": [
    "XoDDIRubNMn4"
   ],
   "name": "P7.ipynb",
   "provenance": []
  },
  "kernelspec": {
   "display_name": "dl-venv",
   "language": "python",
   "name": "dl-venv"
  },
  "language_info": {
   "codemirror_mode": {
    "name": "ipython",
    "version": 3
   },
   "file_extension": ".py",
   "mimetype": "text/x-python",
   "name": "python",
   "nbconvert_exporter": "python",
   "pygments_lexer": "ipython3",
   "version": "3.8.10"
  },
  "toc": {
   "base_numbering": 1,
   "nav_menu": {},
   "number_sections": true,
   "sideBar": true,
   "skip_h1_title": false,
   "title_cell": "Table of Contents",
   "title_sidebar": "Contents",
   "toc_cell": false,
   "toc_position": {
    "height": "calc(100% - 180px)",
    "left": "10px",
    "top": "150px",
    "width": "354.333px"
   },
   "toc_section_display": true,
   "toc_window_display": true
  }
 },
 "nbformat": 4,
 "nbformat_minor": 4
}
