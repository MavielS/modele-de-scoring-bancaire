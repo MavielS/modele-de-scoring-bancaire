{
 "cells": [
  {
   "cell_type": "code",
   "execution_count": 11,
   "metadata": {
    "ExecuteTime": {
     "end_time": "2021-10-28T09:26:07.240693Z",
     "start_time": "2021-10-28T09:26:05.214345Z"
    }
   },
   "outputs": [],
   "source": [
    "import pandas as pd\n",
    "import numpy as np\n",
    "import re\n",
    "\n",
    "\n",
    "# For data viz\n",
    "from IPython.display import display\n",
    "import matplotlib.pyplot as plt\n",
    "import seaborn as sns\n",
    "import plotly.io as pio\n",
    "import plotly.express as px\n",
    "from plotly.subplots import make_subplots\n",
    "import plotly.graph_objects as go\n",
    "\n",
    "# File system manangement\n",
    "import os\n",
    "\n",
    "plt.style.use('seaborn-dark')\n",
    "plt.rcParams['figure.figsize'] = (12, 8)\n",
    "plt.rcParams['figure.dpi'] = 100\n",
    "\n",
    "pd.set_option('plotting.backend', 'plotly')\n",
    "pd.set_option(\"display.min_rows\", 10)\n",
    "pd.set_option(\"display.max_columns\", 50)\n",
    "pd.set_option(\"max_colwidth\", 100)"
   ]
  },
  {
   "cell_type": "markdown",
   "metadata": {
    "heading_collapsed": true
   },
   "source": [
    "# Model interpretation"
   ]
  },
  {
   "cell_type": "markdown",
   "metadata": {},
   "source": [
    "## Utils"
   ]
  },
  {
   "cell_type": "code",
   "execution_count": 2,
   "metadata": {
    "jupyter": {
     "source_hidden": true
    },
    "tags": []
   },
   "outputs": [],
   "source": [
    "from preprocess_utils import encoding, handle_nans, scaling, sample_data\n",
    "from classification_utils import *\n",
    "\n",
    "from sklearn.preprocessing import MinMaxScaler \n",
    "from sklearn.neighbors import KDTree\n",
    "from sklearn.feature_selection import VarianceThreshold\n",
    "\n",
    "from sklearn.model_selection import train_test_split\n",
    "\n",
    "# Models used\n",
    "from sklearn.dummy import DummyClassifier\n",
    "from sklearn.linear_model import LogisticRegression\n",
    "from sklearn.tree import DecisionTreeClassifier\n",
    "from sklearn.ensemble import RandomForestClassifier\n",
    "import lightgbm as lgb\n",
    "\n",
    "# Evaluating our models\n",
    "from sklearn.metrics import accuracy_score, precision_score, recall_score, f1_score, roc_auc_score, confusion_matrix, plot_confusion_matrix, ConfusionMatrixDisplay\n",
    "from sklearn.model_selection import GridSearchCV\n",
    "from sklearn.metrics import fbeta_score, make_scorer\n",
    "\n",
    "\n",
    "def handle_outliers(df):\n",
    "    ### DAYS_EMPLOYED_ANOM ###\n",
    "    # Create an anomalous flag column\n",
    "    df['DAYS_EMPLOYED_ANOM'] = df[\"DAYS_EMPLOYED\"] == 365243\n",
    "    # Replace the anomalous values with nan\n",
    "    df['DAYS_EMPLOYED'].replace({365243: np.nan}, inplace = True)\n",
    "    df.DAYS_EMPLOYED = df.DAYS_EMPLOYED.abs()\n",
    "    print(f'(DAYS_EMPLOYED) {df[\"DAYS_EMPLOYED_ANOM\"].sum()} anomalous values found.')\n",
    "\n",
    "    ### DAYS columns ###\n",
    "    for col in df.columns[df.columns.str.contains('DAYS')]:\n",
    "        df[col] = df[col].abs()\n",
    "\n",
    "    ### Categorical XNA ###\n",
    "    for col_name in df.select_dtypes(include='object').columns:\n",
    "        if 'XNA' in (df[col_name].unique()):\n",
    "            nb_xna = df[col_name].value_counts().loc['XNA']\n",
    "            print(f'{nb_xna} XNAs found in {col_name}')\n",
    "            df[col_name].replace('XNA', np.nan, inplace=True)\n",
    "\n",
    "    return df\n",
    "\n",
    "def train_model(X_train, y_train, model, grid, scoring='roc_auc'):\n",
    "    model_cv = GridSearchCV(model, grid, cv=5, scoring=scoring, verbose=2, error_score='raise', n_jobs=-1)\n",
    "\n",
    "    # Train on the training data\n",
    "    model_cv.fit(X_train, y_train)\n",
    "    \n",
    "    return model_cv\n",
    "\n",
    "def business_score(y_true, y_pred):\n",
    "    cm = confusion_matrix(y_true, y_pred)\n",
    "    tn = cm[0,0] ; tp = cm[1,1] \n",
    "    fn = cm[1,0] ; fp = cm[0,1]\n",
    "\n",
    "    if type(y_true) == np.ndarray:\n",
    "        max_score = np.unique(y_true, return_counts=True)[1][0]*2 + np.unique(y_true, return_counts=True)[1][0]*1\n",
    "    else:\n",
    "        max_score = np.unique(y_true.values, return_counts=True)[1][0]*2 + np.unique(y_true.values, return_counts=True)[1][0]*1\n",
    "\n",
    "\n",
    "    score = (tn*2 + tp*1 + fp*(-2) + fn*(-20) )\n",
    "    \n",
    "    return score\n",
    "\n",
    "business_scoring = make_scorer(business_score, greater_is_better=True)\n",
    "\n",
    "\n",
    "def classif_score(y_true, X_test, model, name_model, display_cm = True):\n",
    "    \n",
    "    y_pred = model.predict(X_test).astype('int')\n",
    "    \n",
    "    if display_cm:\n",
    "        cm = confusion_matrix(y_true, y_pred)\n",
    "        make_confusion_matrix(cm, sum_stats=False, cbar=False, figsize=(4,4), title='Confusion Matrix')\n",
    "\n",
    "    data = {'Accuracy': round(accuracy_score(y_true, y_pred), 3),\n",
    "          'AUROC': round(roc_auc_score(y_true, model.predict_proba(X_test)[:,1]), 3),\n",
    "          'Precision': round(precision_score(y_true, y_pred), 3),\n",
    "          'Recall': round(recall_score(y_true, y_pred), 3),\n",
    "          'F1-Score': round(f1_score(y_true, y_pred), 3),\n",
    "          'FBeta-Score': round(fbeta_score(y_true, y_pred, beta=3, average='binary'), 3), # Report only for the positive label\n",
    "          'Business_score': round(business_score(y_true, y_pred) ,3)\n",
    "        }\n",
    "    return pd.DataFrame(data, index=[name_model])\n",
    "\n",
    "def adding_features(df, target):\n",
    "    age = df.DAYS_BIRTH/365\n",
    "    \n",
    "    # AMT_CREDIT: Credit amount of the loan ; AMT_ANNUITY: Loan annuity\n",
    "    credit_annuity_ratio = df.AMT_CREDIT /  df.AMT_ANNUITY\n",
    "    credit_goods_price_ratio =  df.AMT_CREDIT / df.AMT_GOODS_PRICE\n",
    "    credit_income_ratio =  df.AMT_CREDIT / df.AMT_INCOME_TOTAL\n",
    "    annuity_income_ratio = df.AMT_ANNUITY / df.AMT_INCOME_TOTAL\n",
    "    days_employed_life = df.DAYS_EMPLOYED / df.DAYS_BIRTH\n",
    "    \n",
    "    \n",
    "    tmp = df[['EXT_SOURCE_3', 'EXT_SOURCE_2', 'EXT_SOURCE_1']]\n",
    "    tmp = pd.concat([tmp, credit_annuity_ratio.rename('CREDIT_ANNUITY_RATIO')], axis=1) \n",
    "    \n",
    "#     # Computing Nearest Neigbors\n",
    "#     scaler = MinMaxScaler()\n",
    "#     scaled = scaler.fit_transform(tmp)\n",
    "    \n",
    "#     kdt = KDTree(scaled)\n",
    "    \n",
    "#     mean_target_50_nn = []\n",
    "\n",
    "#     for index, row in enumerate(scaled):\n",
    "#         indices = kdt.query(row.reshape(1,-1), 50, return_distance = False) # Compute the 50 nearest neighbors of a given line\n",
    "#         if target.iloc[indices[0]].mean() >= 0.5: # Determine the mean of the target of the 500nearest neighbors\n",
    "#             mean_target_50_nn.append(1)\n",
    "#         else: \n",
    "#             mean_target_50_nn.append(0)\n",
    "            \n",
    "    # Adding new features to the dataframe\n",
    "    df['AGE'] = age\n",
    "    df['CREDIT_ANNUITY_RATIO'] = credit_annuity_ratio\n",
    "    df['CREDIT_GOODS_PRICE_RATIO'] = credit_goods_price_ratio\n",
    "    df['CREDIT_INCOME_RATIO'] = credit_income_ratio\n",
    "    df['ANNUITY_INCOME_RATIO'] = annuity_income_ratio\n",
    "    df['DAYS_EMPLOYED_LIFE'] = days_employed_life\n",
    "    \n",
    "#     df['TARGET_50_NN'] = mean_target_50_nn\n",
    "    \n",
    "    print('Features added.')\n",
    "    \n",
    "    return df\n",
    "\n",
    "def delete_correl_features(df, to_drop):\n",
    "    return df.drop(to_drop, axis=1)\n",
    "\n",
    "def delete_low_var(X_train, X_test, var_th=0.01):  \n",
    "    selector = VarianceThreshold(threshold=var_th)\n",
    "    selector.fit(X_train)\n",
    "    col_to_drop = X_train.columns[~selector.get_support()] # Easier to debug\n",
    "    print(f'With var_th={var_th}: {len(col_to_drop)} columns dropped.')\n",
    "    X_train = X_train.drop(col_to_drop, axis=1)\n",
    "    X_test = X_test.drop(col_to_drop, axis=1)\n",
    "    \n",
    "    return X_train, X_test, col_to_drop\n",
    "\n",
    "from sklearn.feature_selection import SelectFromModel\n",
    "\n",
    "def delete_from_model(X_train, y_train, X_test, threshold_from_model='mean'):\n",
    "    selector = SelectFromModel(DecisionTreeClassifier(random_state=42), threshold=threshold_from_model)\n",
    "    selector.fit(X_train, y_train)\n",
    "    \n",
    "    col_to_drop = X_train.columns[~selector.get_support()] # Easier to debug\n",
    "    print(f'With threshold={threshold_from_model}: {len(col_to_drop)} columns dropped.')\n",
    "    X_train = X_train.drop(col_to_drop, axis=1)\n",
    "    X_test = X_test.drop(col_to_drop, axis=1)\n",
    "    \n",
    "    return X_train, X_test, col_to_drop"
   ]
  },
  {
   "cell_type": "code",
   "execution_count": 3,
   "metadata": {
    "jupyter": {
     "source_hidden": true
    },
    "tags": []
   },
   "outputs": [],
   "source": [
    "def preprocessing_fe(data, delete_correl = False, adding_f = False, low_var = False, var_th = 0.01, from_model=False, s=MinMaxScaler, return_object_to_ser=False, **params_scaler):\n",
    "    df = data.copy(deep=True)\n",
    "    \n",
    "    col_to_drop = []\n",
    "    \n",
    "    df = df.rename(columns = lambda x:re.sub('[^A-Za-z0-9_]+', '', x)) # Delete special JSON characters from column names\n",
    "    if delete_correl:\n",
    "        to_drop = ['YEARS_BUILD_AVG', 'YEARS_BUILD_MODE', 'YEARS_BEGINEXPLUATATION_MODE', 'YEARS_BEGINEXPLUATATION_AVG', 'REGION_RATING_CLIENT_W_CITY', 'OBS_60_CNT_SOCIAL_CIRCLE',\n",
    "              'NONLIVINGAREA_AVG', 'NONLIVINGAREA_MODE', 'NONLIVINGAPARTMENTS_MODE', 'NONLIVINGAPARTMENTS_AVG', 'LIVINGAREA_AVG', 'LIVINGAREA_MODE',\n",
    "               'LIVINGAPARTMENTS_AVG', 'LIVINGAPARTMENTS_MODE', 'LANDAREA_AVG', 'LANDAREA_MODE', 'FLOORSMIN_MODE', 'FLOORSMIN_AVG', 'FLOORSMAX_MODE', 'FLOORSMAX_AVG', \n",
    "               'ENTRANCES_AVG', 'ENTRANCES_MODE', 'ELEVATORS_AVG', 'ELEVATORS_MODE', 'COMMONAREA_AVG', 'COMMONAREA_MODE', 'BASEMENTAREA_MODE', 'BASEMENTAREA_AVG', 'APARTMENTS_AVG', 'APARTMENTS_MODE', 'FLAG_EMP_PHONE'\n",
    "              ]\n",
    "        col_to_drop.append(to_drop)\n",
    "        df = delete_correl_features(df, to_drop)\n",
    "\n",
    "    print(\"Handling Outliers\".center(50, '-'))\n",
    "    df = handle_outliers(df)\n",
    "    print()\n",
    "\n",
    "    print(\"Encoding\".center(50, '-'))\n",
    "    df, col_to_le, enc = encoding(df) # TARGET will not be treated as categorical variables here\n",
    "    print()  \n",
    "\n",
    "    print('Splitting in train/test set'.center(50, '-'))\n",
    "    train, test = train_test_split(df, test_size=0.2, random_state=42, stratify=df['TARGET'])\n",
    "    X_train = train.drop('TARGET', axis=1);   y_train = train.TARGET\n",
    "    X_test = test.drop('TARGET', axis=1);  y_test = test.TARGET\n",
    "    print('train:', X_train.shape);  print('test:', X_test.shape)\n",
    "    print()\n",
    "    \n",
    "    print(\"Handling NaNs\".center(50, '-'))\n",
    "    print('train: ', end=' '); X_train, imputer = handle_nans(X_train)\n",
    "    print('test: ', end=' '); print(f'{X_test.isna().sum().sum()} nans found.')\n",
    "    col_num = X_test.select_dtypes(include=np.number).columns\n",
    "    X_test[col_num] = imputer.transform(X_test[col_num])\n",
    "    print()\n",
    "    \n",
    "    if adding_f:\n",
    "        print(\"Adding Features\".center(50, '-'))\n",
    "        print('train:', end=' '); X_train = adding_features(X_train, y_train)\n",
    "        print('test: ', end=' '); X_test = adding_features(X_test, y_test)\n",
    "        print()\n",
    "        \n",
    "    if low_var:\n",
    "        print(\"Deleting low variance features\".center(50, '-'))\n",
    "        X_train, X_test, to_drop = delete_low_var(X_train, X_test, var_th)\n",
    "        col_to_drop.append(to_drop)\n",
    "        print()\n",
    "        \n",
    "        \n",
    "    if from_model:\n",
    "        print(\"Deleting with model features importance\".center(50, '-'))\n",
    "        X_train, X_test, to_drop = delete_from_model(X_train, y_train, X_test, threshold_from_model='mean')\n",
    "        col_to_drop.append(to_drop)\n",
    "        print()\n",
    "\n",
    "    print(\"Scaling\".center(50, '-'))\n",
    "    X_train, X_test, scaler = scaling(X_train, X_test, s=s,  **params_scaler)\n",
    "    print()    \n",
    "    \n",
    "\n",
    "    if return_object_to_ser:\n",
    "        to_serialize = {'scaler': scaler, 'imputer': imputer,\n",
    "                  'le':col_to_le, 'one_hot': enc, \n",
    "                  'to_drop': to_drop.append(col_to_drop)}\n",
    "        return X_train, y_train, X_test, y_test, to_serialize\n",
    "    else:\n",
    "        return X_train, y_train, X_test, y_test"
   ]
  },
  {
   "cell_type": "markdown",
   "metadata": {
    "hidden": true
   },
   "source": [
    "## Loading datas"
   ]
  },
  {
   "cell_type": "code",
   "execution_count": 4,
   "metadata": {
    "ExecuteTime": {
     "end_time": "2021-10-28T12:12:23.006506Z",
     "start_time": "2021-10-28T12:12:18.401308Z"
    },
    "hidden": true
   },
   "outputs": [],
   "source": [
    "import shap\n",
    "import pickle, sys\n",
    "from preprocess_utils import sample_data"
   ]
  },
  {
   "cell_type": "code",
   "execution_count": 5,
   "metadata": {
    "ExecuteTime": {
     "end_time": "2021-10-28T12:12:23.022521Z",
     "start_time": "2021-10-28T12:12:23.007506Z"
    },
    "hidden": true
   },
   "outputs": [
    {
     "name": "stdout",
     "output_type": "stream",
     "text": [
      "3.8.10 | packaged by conda-forge | (default, May 11 2021, 06:25:23) [MSC v.1916 64 bit (AMD64)]\n"
     ]
    }
   ],
   "source": [
    "print(sys.version)"
   ]
  },
  {
   "cell_type": "code",
   "execution_count": 6,
   "metadata": {
    "ExecuteTime": {
     "end_time": "2021-10-28T12:12:23.161647Z",
     "start_time": "2021-10-28T12:12:23.024522Z"
    },
    "hidden": true
   },
   "outputs": [],
   "source": [
    "path_rf = './rf_objects/'\n",
    "\n",
    "best_model = pickle.load(open(path_rf+'rf_best', 'rb'))\n",
    "scaler_rf = pickle.load(open(path_rf+'scaler_rf', 'rb'))\n",
    "imputer_rf = pickle.load(open(path_rf+'imputer_rf', 'rb'))\n",
    "le_rf = pickle.load(open(path_rf+'le_rf', 'rb'))\n",
    "one_hot_rf = pickle.load(open(path_rf+'one_hot_rf', 'rb'))\n",
    "to_drop = pickle.load(open(path_rf+'to_drop', 'rb'))\n",
    "\n",
    "y_test_rf = pickle.load(open(path_rf+'y_test_rf', 'rb'))\n",
    "X_test_rf = pickle.load(open(path_rf+'X_test_rf', 'rb'))"
   ]
  },
  {
   "cell_type": "code",
   "execution_count": 7,
   "metadata": {
    "ExecuteTime": {
     "end_time": "2021-10-28T12:01:13.703684Z",
     "start_time": "2021-10-28T12:01:11.683824Z"
    }
   },
   "outputs": [],
   "source": [
    "path = './application_train.csv'\n",
    "\n",
    "df = pd.read_csv(path)"
   ]
  },
  {
   "cell_type": "code",
   "execution_count": 21,
   "metadata": {},
   "outputs": [
    {
     "name": "stdout",
     "output_type": "stream",
     "text": [
      "----------------Handling Outliers-----------------\n",
      "(DAYS_EMPLOYED) 55374 anomalous values found.\n",
      "4 XNAs found in CODE_GENDER\n",
      "55374 XNAs found in ORGANIZATION_TYPE\n",
      "\n",
      "---------------------Encoding---------------------\n",
      "3 columns were label encoded.\n",
      "119 columns were one-hot encoded.\n",
      "\n",
      "-----------Splitting in train/test set------------\n",
      "train: (246008, 241)\n",
      "test: (61503, 241)\n",
      "\n",
      "------------------Handling NaNs-------------------\n",
      "train:  Imputing with <class 'sklearn.impute._base.SimpleImputer'> \n",
      "Strategy: median ; Params: {}\n",
      "test:  1691948 nans found.\n",
      "\n",
      "-----------------Adding Features------------------\n",
      "train: Features added.\n",
      "test:  Features added.\n",
      "\n",
      "----------Deleting low variance features----------\n",
      "With var_th=0.01: 125 columns dropped.\n",
      "\n",
      "---------------------Scaling----------------------\n",
      "Scaling with <class 'sklearn.preprocessing._data.MinMaxScaler'> \n",
      "Params: {}\n",
      "\n"
     ]
    }
   ],
   "source": [
    "X_train, y_train, _, _ = preprocessing_fe(df, delete_correl=False, adding_f=True, low_var=True, \n",
    "                                                                    var_th=0.01, return_object_to_ser=False)"
   ]
  },
  {
   "cell_type": "code",
   "execution_count": 8,
   "metadata": {
    "ExecuteTime": {
     "end_time": "2021-10-27T10:27:27.418272Z",
     "start_time": "2021-10-27T10:27:27.219091Z"
    },
    "hidden": true
   },
   "outputs": [
    {
     "name": "stdout",
     "output_type": "stream",
     "text": [
      "(10, 122)\n",
      "(10,)\n",
      "0    0.9\n",
      "1    0.1\n",
      "Name: TARGET, dtype: float64\n"
     ]
    }
   ],
   "source": [
    "sample_test, _ = sample_data(X_test_rf, y_test_rf, nb_samples=10)\n",
    "# sample_train, _ = sample_data(X_train, y_train, nb_samples=10000)"
   ]
  },
  {
   "cell_type": "code",
   "execution_count": null,
   "metadata": {},
   "outputs": [],
   "source": [
    "# explainer = shap.TreeExplainer(best_model)\n",
    "# shap_values = explainer.shap_values(sample_train)"
   ]
  },
  {
   "cell_type": "markdown",
   "metadata": {
    "hidden": true
   },
   "source": [
    "### Global interpretation"
   ]
  },
  {
   "cell_type": "markdown",
   "metadata": {},
   "source": [
    "What features have the most impact on the parameters of my model ?"
   ]
  },
  {
   "cell_type": "code",
   "execution_count": 15,
   "metadata": {},
   "outputs": [
    {
     "data": {
      "application/vnd.plotly.v1+json": {
       "config": {
        "plotlyServerURL": "https://plot.ly"
       },
       "data": [
        {
         "alignmentgroup": "True",
         "hovertemplate": "variable=0<br>value=%{x}<br>index=%{y}<extra></extra>",
         "legendgroup": "0",
         "marker": {
          "color": "#636efa"
         },
         "name": "0",
         "offsetgroup": "0",
         "orientation": "h",
         "showlegend": true,
         "textposition": "auto",
         "type": "bar",
         "x": [
          0.13502377339170896,
          0.12405396450846287,
          0.05152443360477701,
          0.038652839452060564,
          0.037025913384915586,
          0.033881959492330534,
          0.03325613864406754,
          0.03185281383458907,
          0.03129082780005422,
          0.02698832967392802,
          0.026272413089410338,
          0.024845244446717873,
          0.02435778988052939,
          0.023735131752880834,
          0.02348405627016216,
          0.023259488182245484,
          0.02109046825277869,
          0.015877106347474794,
          0.013369549804244093,
          0.012695353848135277
         ],
         "xaxis": "x",
         "y": [
          "EXT_SOURCE_3",
          "EXT_SOURCE_2",
          "EXT_SOURCE_1",
          "CREDIT_ANNUITY_RATIO",
          "DAYS_EMPLOYED",
          "DAYS_BIRTH",
          "AGE",
          "CREDIT_GOODS_PRICE_RATIO",
          "DAYS_EMPLOYED_LIFE",
          "DAYS_LAST_PHONE_CHANGE",
          "DAYS_ID_PUBLISH",
          "AMT_ANNUITY",
          "AMT_CREDIT",
          "AMT_GOODS_PRICE",
          "CREDIT_INCOME_RATIO",
          "DAYS_REGISTRATION",
          "SK_ID_CURR",
          "AMT_INCOME_TOTAL",
          "OWN_CAR_AGE",
          "HOUR_APPR_PROCESS_START"
         ],
         "yaxis": "y"
        }
       ],
       "layout": {
        "autosize": true,
        "barmode": "relative",
        "legend": {
         "title": {
          "text": "variable"
         },
         "tracegroupgap": 0
        },
        "margin": {
         "t": 60
        },
        "showlegend": false,
        "template": {
         "data": {
          "bar": [
           {
            "error_x": {
             "color": "#2a3f5f"
            },
            "error_y": {
             "color": "#2a3f5f"
            },
            "marker": {
             "line": {
              "color": "#E5ECF6",
              "width": 0.5
             }
            },
            "type": "bar"
           }
          ],
          "barpolar": [
           {
            "marker": {
             "line": {
              "color": "#E5ECF6",
              "width": 0.5
             }
            },
            "type": "barpolar"
           }
          ],
          "carpet": [
           {
            "aaxis": {
             "endlinecolor": "#2a3f5f",
             "gridcolor": "white",
             "linecolor": "white",
             "minorgridcolor": "white",
             "startlinecolor": "#2a3f5f"
            },
            "baxis": {
             "endlinecolor": "#2a3f5f",
             "gridcolor": "white",
             "linecolor": "white",
             "minorgridcolor": "white",
             "startlinecolor": "#2a3f5f"
            },
            "type": "carpet"
           }
          ],
          "choropleth": [
           {
            "colorbar": {
             "outlinewidth": 0,
             "ticks": ""
            },
            "type": "choropleth"
           }
          ],
          "contour": [
           {
            "colorbar": {
             "outlinewidth": 0,
             "ticks": ""
            },
            "colorscale": [
             [
              0,
              "#0d0887"
             ],
             [
              0.1111111111111111,
              "#46039f"
             ],
             [
              0.2222222222222222,
              "#7201a8"
             ],
             [
              0.3333333333333333,
              "#9c179e"
             ],
             [
              0.4444444444444444,
              "#bd3786"
             ],
             [
              0.5555555555555556,
              "#d8576b"
             ],
             [
              0.6666666666666666,
              "#ed7953"
             ],
             [
              0.7777777777777778,
              "#fb9f3a"
             ],
             [
              0.8888888888888888,
              "#fdca26"
             ],
             [
              1,
              "#f0f921"
             ]
            ],
            "type": "contour"
           }
          ],
          "contourcarpet": [
           {
            "colorbar": {
             "outlinewidth": 0,
             "ticks": ""
            },
            "type": "contourcarpet"
           }
          ],
          "heatmap": [
           {
            "colorbar": {
             "outlinewidth": 0,
             "ticks": ""
            },
            "colorscale": [
             [
              0,
              "#0d0887"
             ],
             [
              0.1111111111111111,
              "#46039f"
             ],
             [
              0.2222222222222222,
              "#7201a8"
             ],
             [
              0.3333333333333333,
              "#9c179e"
             ],
             [
              0.4444444444444444,
              "#bd3786"
             ],
             [
              0.5555555555555556,
              "#d8576b"
             ],
             [
              0.6666666666666666,
              "#ed7953"
             ],
             [
              0.7777777777777778,
              "#fb9f3a"
             ],
             [
              0.8888888888888888,
              "#fdca26"
             ],
             [
              1,
              "#f0f921"
             ]
            ],
            "type": "heatmap"
           }
          ],
          "heatmapgl": [
           {
            "colorbar": {
             "outlinewidth": 0,
             "ticks": ""
            },
            "colorscale": [
             [
              0,
              "#0d0887"
             ],
             [
              0.1111111111111111,
              "#46039f"
             ],
             [
              0.2222222222222222,
              "#7201a8"
             ],
             [
              0.3333333333333333,
              "#9c179e"
             ],
             [
              0.4444444444444444,
              "#bd3786"
             ],
             [
              0.5555555555555556,
              "#d8576b"
             ],
             [
              0.6666666666666666,
              "#ed7953"
             ],
             [
              0.7777777777777778,
              "#fb9f3a"
             ],
             [
              0.8888888888888888,
              "#fdca26"
             ],
             [
              1,
              "#f0f921"
             ]
            ],
            "type": "heatmapgl"
           }
          ],
          "histogram": [
           {
            "marker": {
             "colorbar": {
              "outlinewidth": 0,
              "ticks": ""
             }
            },
            "type": "histogram"
           }
          ],
          "histogram2d": [
           {
            "colorbar": {
             "outlinewidth": 0,
             "ticks": ""
            },
            "colorscale": [
             [
              0,
              "#0d0887"
             ],
             [
              0.1111111111111111,
              "#46039f"
             ],
             [
              0.2222222222222222,
              "#7201a8"
             ],
             [
              0.3333333333333333,
              "#9c179e"
             ],
             [
              0.4444444444444444,
              "#bd3786"
             ],
             [
              0.5555555555555556,
              "#d8576b"
             ],
             [
              0.6666666666666666,
              "#ed7953"
             ],
             [
              0.7777777777777778,
              "#fb9f3a"
             ],
             [
              0.8888888888888888,
              "#fdca26"
             ],
             [
              1,
              "#f0f921"
             ]
            ],
            "type": "histogram2d"
           }
          ],
          "histogram2dcontour": [
           {
            "colorbar": {
             "outlinewidth": 0,
             "ticks": ""
            },
            "colorscale": [
             [
              0,
              "#0d0887"
             ],
             [
              0.1111111111111111,
              "#46039f"
             ],
             [
              0.2222222222222222,
              "#7201a8"
             ],
             [
              0.3333333333333333,
              "#9c179e"
             ],
             [
              0.4444444444444444,
              "#bd3786"
             ],
             [
              0.5555555555555556,
              "#d8576b"
             ],
             [
              0.6666666666666666,
              "#ed7953"
             ],
             [
              0.7777777777777778,
              "#fb9f3a"
             ],
             [
              0.8888888888888888,
              "#fdca26"
             ],
             [
              1,
              "#f0f921"
             ]
            ],
            "type": "histogram2dcontour"
           }
          ],
          "mesh3d": [
           {
            "colorbar": {
             "outlinewidth": 0,
             "ticks": ""
            },
            "type": "mesh3d"
           }
          ],
          "parcoords": [
           {
            "line": {
             "colorbar": {
              "outlinewidth": 0,
              "ticks": ""
             }
            },
            "type": "parcoords"
           }
          ],
          "pie": [
           {
            "automargin": true,
            "type": "pie"
           }
          ],
          "scatter": [
           {
            "marker": {
             "colorbar": {
              "outlinewidth": 0,
              "ticks": ""
             }
            },
            "type": "scatter"
           }
          ],
          "scatter3d": [
           {
            "line": {
             "colorbar": {
              "outlinewidth": 0,
              "ticks": ""
             }
            },
            "marker": {
             "colorbar": {
              "outlinewidth": 0,
              "ticks": ""
             }
            },
            "type": "scatter3d"
           }
          ],
          "scattercarpet": [
           {
            "marker": {
             "colorbar": {
              "outlinewidth": 0,
              "ticks": ""
             }
            },
            "type": "scattercarpet"
           }
          ],
          "scattergeo": [
           {
            "marker": {
             "colorbar": {
              "outlinewidth": 0,
              "ticks": ""
             }
            },
            "type": "scattergeo"
           }
          ],
          "scattergl": [
           {
            "marker": {
             "colorbar": {
              "outlinewidth": 0,
              "ticks": ""
             }
            },
            "type": "scattergl"
           }
          ],
          "scattermapbox": [
           {
            "marker": {
             "colorbar": {
              "outlinewidth": 0,
              "ticks": ""
             }
            },
            "type": "scattermapbox"
           }
          ],
          "scatterpolar": [
           {
            "marker": {
             "colorbar": {
              "outlinewidth": 0,
              "ticks": ""
             }
            },
            "type": "scatterpolar"
           }
          ],
          "scatterpolargl": [
           {
            "marker": {
             "colorbar": {
              "outlinewidth": 0,
              "ticks": ""
             }
            },
            "type": "scatterpolargl"
           }
          ],
          "scatterternary": [
           {
            "marker": {
             "colorbar": {
              "outlinewidth": 0,
              "ticks": ""
             }
            },
            "type": "scatterternary"
           }
          ],
          "surface": [
           {
            "colorbar": {
             "outlinewidth": 0,
             "ticks": ""
            },
            "colorscale": [
             [
              0,
              "#0d0887"
             ],
             [
              0.1111111111111111,
              "#46039f"
             ],
             [
              0.2222222222222222,
              "#7201a8"
             ],
             [
              0.3333333333333333,
              "#9c179e"
             ],
             [
              0.4444444444444444,
              "#bd3786"
             ],
             [
              0.5555555555555556,
              "#d8576b"
             ],
             [
              0.6666666666666666,
              "#ed7953"
             ],
             [
              0.7777777777777778,
              "#fb9f3a"
             ],
             [
              0.8888888888888888,
              "#fdca26"
             ],
             [
              1,
              "#f0f921"
             ]
            ],
            "type": "surface"
           }
          ],
          "table": [
           {
            "cells": {
             "fill": {
              "color": "#EBF0F8"
             },
             "line": {
              "color": "white"
             }
            },
            "header": {
             "fill": {
              "color": "#C8D4E3"
             },
             "line": {
              "color": "white"
             }
            },
            "type": "table"
           }
          ]
         },
         "layout": {
          "annotationdefaults": {
           "arrowcolor": "#2a3f5f",
           "arrowhead": 0,
           "arrowwidth": 1
          },
          "autotypenumbers": "strict",
          "coloraxis": {
           "colorbar": {
            "outlinewidth": 0,
            "ticks": ""
           }
          },
          "colorscale": {
           "diverging": [
            [
             0,
             "#8e0152"
            ],
            [
             0.1,
             "#c51b7d"
            ],
            [
             0.2,
             "#de77ae"
            ],
            [
             0.3,
             "#f1b6da"
            ],
            [
             0.4,
             "#fde0ef"
            ],
            [
             0.5,
             "#f7f7f7"
            ],
            [
             0.6,
             "#e6f5d0"
            ],
            [
             0.7,
             "#b8e186"
            ],
            [
             0.8,
             "#7fbc41"
            ],
            [
             0.9,
             "#4d9221"
            ],
            [
             1,
             "#276419"
            ]
           ],
           "sequential": [
            [
             0,
             "#0d0887"
            ],
            [
             0.1111111111111111,
             "#46039f"
            ],
            [
             0.2222222222222222,
             "#7201a8"
            ],
            [
             0.3333333333333333,
             "#9c179e"
            ],
            [
             0.4444444444444444,
             "#bd3786"
            ],
            [
             0.5555555555555556,
             "#d8576b"
            ],
            [
             0.6666666666666666,
             "#ed7953"
            ],
            [
             0.7777777777777778,
             "#fb9f3a"
            ],
            [
             0.8888888888888888,
             "#fdca26"
            ],
            [
             1,
             "#f0f921"
            ]
           ],
           "sequentialminus": [
            [
             0,
             "#0d0887"
            ],
            [
             0.1111111111111111,
             "#46039f"
            ],
            [
             0.2222222222222222,
             "#7201a8"
            ],
            [
             0.3333333333333333,
             "#9c179e"
            ],
            [
             0.4444444444444444,
             "#bd3786"
            ],
            [
             0.5555555555555556,
             "#d8576b"
            ],
            [
             0.6666666666666666,
             "#ed7953"
            ],
            [
             0.7777777777777778,
             "#fb9f3a"
            ],
            [
             0.8888888888888888,
             "#fdca26"
            ],
            [
             1,
             "#f0f921"
            ]
           ]
          },
          "colorway": [
           "#636efa",
           "#EF553B",
           "#00cc96",
           "#ab63fa",
           "#FFA15A",
           "#19d3f3",
           "#FF6692",
           "#B6E880",
           "#FF97FF",
           "#FECB52"
          ],
          "font": {
           "color": "#2a3f5f"
          },
          "geo": {
           "bgcolor": "white",
           "lakecolor": "white",
           "landcolor": "#E5ECF6",
           "showlakes": true,
           "showland": true,
           "subunitcolor": "white"
          },
          "hoverlabel": {
           "align": "left"
          },
          "hovermode": "closest",
          "mapbox": {
           "style": "light"
          },
          "paper_bgcolor": "white",
          "plot_bgcolor": "#E5ECF6",
          "polar": {
           "angularaxis": {
            "gridcolor": "white",
            "linecolor": "white",
            "ticks": ""
           },
           "bgcolor": "#E5ECF6",
           "radialaxis": {
            "gridcolor": "white",
            "linecolor": "white",
            "ticks": ""
           }
          },
          "scene": {
           "xaxis": {
            "backgroundcolor": "#E5ECF6",
            "gridcolor": "white",
            "gridwidth": 2,
            "linecolor": "white",
            "showbackground": true,
            "ticks": "",
            "zerolinecolor": "white"
           },
           "yaxis": {
            "backgroundcolor": "#E5ECF6",
            "gridcolor": "white",
            "gridwidth": 2,
            "linecolor": "white",
            "showbackground": true,
            "ticks": "",
            "zerolinecolor": "white"
           },
           "zaxis": {
            "backgroundcolor": "#E5ECF6",
            "gridcolor": "white",
            "gridwidth": 2,
            "linecolor": "white",
            "showbackground": true,
            "ticks": "",
            "zerolinecolor": "white"
           }
          },
          "shapedefaults": {
           "line": {
            "color": "#2a3f5f"
           }
          },
          "ternary": {
           "aaxis": {
            "gridcolor": "white",
            "linecolor": "white",
            "ticks": ""
           },
           "baxis": {
            "gridcolor": "white",
            "linecolor": "white",
            "ticks": ""
           },
           "bgcolor": "#E5ECF6",
           "caxis": {
            "gridcolor": "white",
            "linecolor": "white",
            "ticks": ""
           }
          },
          "title": {
           "x": 0.05
          },
          "xaxis": {
           "automargin": true,
           "gridcolor": "white",
           "linecolor": "white",
           "ticks": "",
           "title": {
            "standoff": 15
           },
           "zerolinecolor": "white",
           "zerolinewidth": 2
          },
          "yaxis": {
           "automargin": true,
           "gridcolor": "white",
           "linecolor": "white",
           "ticks": "",
           "title": {
            "standoff": 15
           },
           "zerolinecolor": "white",
           "zerolinewidth": 2
          }
         }
        },
        "xaxis": {
         "anchor": "y",
         "autorange": true,
         "domain": [
          0,
          1
         ],
         "range": [
          0,
          0.14213028778074627
         ],
         "title": {
          "text": "value"
         },
         "type": "linear"
        },
        "yaxis": {
         "anchor": "x",
         "autorange": true,
         "domain": [
          0,
          1
         ],
         "range": [
          -0.5,
          19.5
         ],
         "title": {
          "text": "index"
         },
         "type": "category"
        }
       }
      },
      "image/png": "[encoded data removed]",
      "text/html": [
       "<div>                            <div id=\"b44b5f29-1b90-4d13-b912-1e97f41ca364\" class=\"plotly-graph-div\" style=\"height:525px; width:100%;\"></div>            <script type=\"text/javascript\">                require([\"plotly\"], function(Plotly) {                    window.PLOTLYENV=window.PLOTLYENV || {};                                    if (document.getElementById(\"b44b5f29-1b90-4d13-b912-1e97f41ca364\")) {                    Plotly.newPlot(                        \"b44b5f29-1b90-4d13-b912-1e97f41ca364\",                        [{\"alignmentgroup\": \"True\", \"hovertemplate\": \"variable=0<br>value=%{x}<br>index=%{y}<extra></extra>\", \"legendgroup\": \"0\", \"marker\": {\"color\": \"#636efa\"}, \"name\": \"0\", \"offsetgroup\": \"0\", \"orientation\": \"h\", \"showlegend\": true, \"textposition\": \"auto\", \"type\": \"bar\", \"x\": [0.13502377339170896, 0.12405396450846287, 0.05152443360477701, 0.038652839452060564, 0.037025913384915586, 0.033881959492330534, 0.03325613864406754, 0.03185281383458907, 0.03129082780005422, 0.02698832967392802, 0.026272413089410338, 0.024845244446717873, 0.02435778988052939, 0.023735131752880834, 0.02348405627016216, 0.023259488182245484, 0.02109046825277869, 0.015877106347474794, 0.013369549804244093, 0.012695353848135277], \"xaxis\": \"x\", \"y\": [\"EXT_SOURCE_3\", \"EXT_SOURCE_2\", \"EXT_SOURCE_1\", \"CREDIT_ANNUITY_RATIO\", \"DAYS_EMPLOYED\", \"DAYS_BIRTH\", \"AGE\", \"CREDIT_GOODS_PRICE_RATIO\", \"DAYS_EMPLOYED_LIFE\", \"DAYS_LAST_PHONE_CHANGE\", \"DAYS_ID_PUBLISH\", \"AMT_ANNUITY\", \"AMT_CREDIT\", \"AMT_GOODS_PRICE\", \"CREDIT_INCOME_RATIO\", \"DAYS_REGISTRATION\", \"SK_ID_CURR\", \"AMT_INCOME_TOTAL\", \"OWN_CAR_AGE\", \"HOUR_APPR_PROCESS_START\"], \"yaxis\": \"y\"}],                        {\"barmode\": \"relative\", \"legend\": {\"title\": {\"text\": \"variable\"}, \"tracegroupgap\": 0}, \"margin\": {\"t\": 60}, \"showlegend\": false, \"template\": {\"data\": {\"bar\": [{\"error_x\": {\"color\": \"#2a3f5f\"}, \"error_y\": {\"color\": \"#2a3f5f\"}, \"marker\": {\"line\": {\"color\": \"#E5ECF6\", \"width\": 0.5}}, \"type\": \"bar\"}], \"barpolar\": [{\"marker\": {\"line\": {\"color\": \"#E5ECF6\", \"width\": 0.5}}, \"type\": \"barpolar\"}], \"carpet\": [{\"aaxis\": {\"endlinecolor\": \"#2a3f5f\", \"gridcolor\": \"white\", \"linecolor\": \"white\", \"minorgridcolor\": \"white\", \"startlinecolor\": \"#2a3f5f\"}, \"baxis\": {\"endlinecolor\": \"#2a3f5f\", \"gridcolor\": \"white\", \"linecolor\": \"white\", \"minorgridcolor\": \"white\", \"startlinecolor\": \"#2a3f5f\"}, \"type\": \"carpet\"}], \"choropleth\": [{\"colorbar\": {\"outlinewidth\": 0, \"ticks\": \"\"}, \"type\": \"choropleth\"}], \"contour\": [{\"colorbar\": {\"outlinewidth\": 0, \"ticks\": \"\"}, \"colorscale\": [[0.0, \"#0d0887\"], [0.1111111111111111, \"#46039f\"], [0.2222222222222222, \"#7201a8\"], [0.3333333333333333, \"#9c179e\"], [0.4444444444444444, \"#bd3786\"], [0.5555555555555556, \"#d8576b\"], [0.6666666666666666, \"#ed7953\"], [0.7777777777777778, \"#fb9f3a\"], [0.8888888888888888, \"#fdca26\"], [1.0, \"#f0f921\"]], \"type\": \"contour\"}], \"contourcarpet\": [{\"colorbar\": {\"outlinewidth\": 0, \"ticks\": \"\"}, \"type\": \"contourcarpet\"}], \"heatmap\": [{\"colorbar\": {\"outlinewidth\": 0, \"ticks\": \"\"}, \"colorscale\": [[0.0, \"#0d0887\"], [0.1111111111111111, \"#46039f\"], [0.2222222222222222, \"#7201a8\"], [0.3333333333333333, \"#9c179e\"], [0.4444444444444444, \"#bd3786\"], [0.5555555555555556, \"#d8576b\"], [0.6666666666666666, \"#ed7953\"], [0.7777777777777778, \"#fb9f3a\"], [0.8888888888888888, \"#fdca26\"], [1.0, \"#f0f921\"]], \"type\": \"heatmap\"}], \"heatmapgl\": [{\"colorbar\": {\"outlinewidth\": 0, \"ticks\": \"\"}, \"colorscale\": [[0.0, \"#0d0887\"], [0.1111111111111111, \"#46039f\"], [0.2222222222222222, \"#7201a8\"], [0.3333333333333333, \"#9c179e\"], [0.4444444444444444, \"#bd3786\"], [0.5555555555555556, \"#d8576b\"], [0.6666666666666666, \"#ed7953\"], [0.7777777777777778, \"#fb9f3a\"], [0.8888888888888888, \"#fdca26\"], [1.0, \"#f0f921\"]], \"type\": \"heatmapgl\"}], \"histogram\": [{\"marker\": {\"colorbar\": {\"outlinewidth\": 0, \"ticks\": \"\"}}, \"type\": \"histogram\"}], \"histogram2d\": [{\"colorbar\": {\"outlinewidth\": 0, \"ticks\": \"\"}, \"colorscale\": [[0.0, \"#0d0887\"], [0.1111111111111111, \"#46039f\"], [0.2222222222222222, \"#7201a8\"], [0.3333333333333333, \"#9c179e\"], [0.4444444444444444, \"#bd3786\"], [0.5555555555555556, \"#d8576b\"], [0.6666666666666666, \"#ed7953\"], [0.7777777777777778, \"#fb9f3a\"], [0.8888888888888888, \"#fdca26\"], [1.0, \"#f0f921\"]], \"type\": \"histogram2d\"}], \"histogram2dcontour\": [{\"colorbar\": {\"outlinewidth\": 0, \"ticks\": \"\"}, \"colorscale\": [[0.0, \"#0d0887\"], [0.1111111111111111, \"#46039f\"], [0.2222222222222222, \"#7201a8\"], [0.3333333333333333, \"#9c179e\"], [0.4444444444444444, \"#bd3786\"], [0.5555555555555556, \"#d8576b\"], [0.6666666666666666, \"#ed7953\"], [0.7777777777777778, \"#fb9f3a\"], [0.8888888888888888, \"#fdca26\"], [1.0, \"#f0f921\"]], \"type\": \"histogram2dcontour\"}], \"mesh3d\": [{\"colorbar\": {\"outlinewidth\": 0, \"ticks\": \"\"}, \"type\": \"mesh3d\"}], \"parcoords\": [{\"line\": {\"colorbar\": {\"outlinewidth\": 0, \"ticks\": \"\"}}, \"type\": \"parcoords\"}], \"pie\": [{\"automargin\": true, \"type\": \"pie\"}], \"scatter\": [{\"marker\": {\"colorbar\": {\"outlinewidth\": 0, \"ticks\": \"\"}}, \"type\": \"scatter\"}], \"scatter3d\": [{\"line\": {\"colorbar\": {\"outlinewidth\": 0, \"ticks\": \"\"}}, \"marker\": {\"colorbar\": {\"outlinewidth\": 0, \"ticks\": \"\"}}, \"type\": \"scatter3d\"}], \"scattercarpet\": [{\"marker\": {\"colorbar\": {\"outlinewidth\": 0, \"ticks\": \"\"}}, \"type\": \"scattercarpet\"}], \"scattergeo\": [{\"marker\": {\"colorbar\": {\"outlinewidth\": 0, \"ticks\": \"\"}}, \"type\": \"scattergeo\"}], \"scattergl\": [{\"marker\": {\"colorbar\": {\"outlinewidth\": 0, \"ticks\": \"\"}}, \"type\": \"scattergl\"}], \"scattermapbox\": [{\"marker\": {\"colorbar\": {\"outlinewidth\": 0, \"ticks\": \"\"}}, \"type\": \"scattermapbox\"}], \"scatterpolar\": [{\"marker\": {\"colorbar\": {\"outlinewidth\": 0, \"ticks\": \"\"}}, \"type\": \"scatterpolar\"}], \"scatterpolargl\": [{\"marker\": {\"colorbar\": {\"outlinewidth\": 0, \"ticks\": \"\"}}, \"type\": \"scatterpolargl\"}], \"scatterternary\": [{\"marker\": {\"colorbar\": {\"outlinewidth\": 0, \"ticks\": \"\"}}, \"type\": \"scatterternary\"}], \"surface\": [{\"colorbar\": {\"outlinewidth\": 0, \"ticks\": \"\"}, \"colorscale\": [[0.0, \"#0d0887\"], [0.1111111111111111, \"#46039f\"], [0.2222222222222222, \"#7201a8\"], [0.3333333333333333, \"#9c179e\"], [0.4444444444444444, \"#bd3786\"], [0.5555555555555556, \"#d8576b\"], [0.6666666666666666, \"#ed7953\"], [0.7777777777777778, \"#fb9f3a\"], [0.8888888888888888, \"#fdca26\"], [1.0, \"#f0f921\"]], \"type\": \"surface\"}], \"table\": [{\"cells\": {\"fill\": {\"color\": \"#EBF0F8\"}, \"line\": {\"color\": \"white\"}}, \"header\": {\"fill\": {\"color\": \"#C8D4E3\"}, \"line\": {\"color\": \"white\"}}, \"type\": \"table\"}]}, \"layout\": {\"annotationdefaults\": {\"arrowcolor\": \"#2a3f5f\", \"arrowhead\": 0, \"arrowwidth\": 1}, \"autotypenumbers\": \"strict\", \"coloraxis\": {\"colorbar\": {\"outlinewidth\": 0, \"ticks\": \"\"}}, \"colorscale\": {\"diverging\": [[0, \"#8e0152\"], [0.1, \"#c51b7d\"], [0.2, \"#de77ae\"], [0.3, \"#f1b6da\"], [0.4, \"#fde0ef\"], [0.5, \"#f7f7f7\"], [0.6, \"#e6f5d0\"], [0.7, \"#b8e186\"], [0.8, \"#7fbc41\"], [0.9, \"#4d9221\"], [1, \"#276419\"]], \"sequential\": [[0.0, \"#0d0887\"], [0.1111111111111111, \"#46039f\"], [0.2222222222222222, \"#7201a8\"], [0.3333333333333333, \"#9c179e\"], [0.4444444444444444, \"#bd3786\"], [0.5555555555555556, \"#d8576b\"], [0.6666666666666666, \"#ed7953\"], [0.7777777777777778, \"#fb9f3a\"], [0.8888888888888888, \"#fdca26\"], [1.0, \"#f0f921\"]], \"sequentialminus\": [[0.0, \"#0d0887\"], [0.1111111111111111, \"#46039f\"], [0.2222222222222222, \"#7201a8\"], [0.3333333333333333, \"#9c179e\"], [0.4444444444444444, \"#bd3786\"], [0.5555555555555556, \"#d8576b\"], [0.6666666666666666, \"#ed7953\"], [0.7777777777777778, \"#fb9f3a\"], [0.8888888888888888, \"#fdca26\"], [1.0, \"#f0f921\"]]}, \"colorway\": [\"#636efa\", \"#EF553B\", \"#00cc96\", \"#ab63fa\", \"#FFA15A\", \"#19d3f3\", \"#FF6692\", \"#B6E880\", \"#FF97FF\", \"#FECB52\"], \"font\": {\"color\": \"#2a3f5f\"}, \"geo\": {\"bgcolor\": \"white\", \"lakecolor\": \"white\", \"landcolor\": \"#E5ECF6\", \"showlakes\": true, \"showland\": true, \"subunitcolor\": \"white\"}, \"hoverlabel\": {\"align\": \"left\"}, \"hovermode\": \"closest\", \"mapbox\": {\"style\": \"light\"}, \"paper_bgcolor\": \"white\", \"plot_bgcolor\": \"#E5ECF6\", \"polar\": {\"angularaxis\": {\"gridcolor\": \"white\", \"linecolor\": \"white\", \"ticks\": \"\"}, \"bgcolor\": \"#E5ECF6\", \"radialaxis\": {\"gridcolor\": \"white\", \"linecolor\": \"white\", \"ticks\": \"\"}}, \"scene\": {\"xaxis\": {\"backgroundcolor\": \"#E5ECF6\", \"gridcolor\": \"white\", \"gridwidth\": 2, \"linecolor\": \"white\", \"showbackground\": true, \"ticks\": \"\", \"zerolinecolor\": \"white\"}, \"yaxis\": {\"backgroundcolor\": \"#E5ECF6\", \"gridcolor\": \"white\", \"gridwidth\": 2, \"linecolor\": \"white\", \"showbackground\": true, \"ticks\": \"\", \"zerolinecolor\": \"white\"}, \"zaxis\": {\"backgroundcolor\": \"#E5ECF6\", \"gridcolor\": \"white\", \"gridwidth\": 2, \"linecolor\": \"white\", \"showbackground\": true, \"ticks\": \"\", \"zerolinecolor\": \"white\"}}, \"shapedefaults\": {\"line\": {\"color\": \"#2a3f5f\"}}, \"ternary\": {\"aaxis\": {\"gridcolor\": \"white\", \"linecolor\": \"white\", \"ticks\": \"\"}, \"baxis\": {\"gridcolor\": \"white\", \"linecolor\": \"white\", \"ticks\": \"\"}, \"bgcolor\": \"#E5ECF6\", \"caxis\": {\"gridcolor\": \"white\", \"linecolor\": \"white\", \"ticks\": \"\"}}, \"title\": {\"x\": 0.05}, \"xaxis\": {\"automargin\": true, \"gridcolor\": \"white\", \"linecolor\": \"white\", \"ticks\": \"\", \"title\": {\"standoff\": 15}, \"zerolinecolor\": \"white\", \"zerolinewidth\": 2}, \"yaxis\": {\"automargin\": true, \"gridcolor\": \"white\", \"linecolor\": \"white\", \"ticks\": \"\", \"title\": {\"standoff\": 15}, \"zerolinecolor\": \"white\", \"zerolinewidth\": 2}}}, \"xaxis\": {\"anchor\": \"y\", \"domain\": [0.0, 1.0], \"title\": {\"text\": \"value\"}}, \"yaxis\": {\"anchor\": \"x\", \"domain\": [0.0, 1.0], \"title\": {\"text\": \"index\"}}},                        {\"responsive\": true}                    ).then(function(){\n",
       "                            \n",
       "var gd = document.getElementById('b44b5f29-1b90-4d13-b912-1e97f41ca364');\n",
       "var x = new MutationObserver(function (mutations, observer) {{\n",
       "        var display = window.getComputedStyle(gd).display;\n",
       "        if (!display || display === 'none') {{\n",
       "            console.log([gd, 'removed!']);\n",
       "            Plotly.purge(gd);\n",
       "            observer.disconnect();\n",
       "        }}\n",
       "}});\n",
       "\n",
       "// Listen for the removal of the full notebook cells\n",
       "var notebookContainer = gd.closest('#notebook-container');\n",
       "if (notebookContainer) {{\n",
       "    x.observe(notebookContainer, {childList: true});\n",
       "}}\n",
       "\n",
       "// Listen for the clearing of the current output cell\n",
       "var outputEl = gd.closest('.output');\n",
       "if (outputEl) {{\n",
       "    x.observe(outputEl, {childList: true});\n",
       "}}\n",
       "\n",
       "                        })                };                });            </script>        </div>"
      ]
     },
     "metadata": {},
     "output_type": "display_data"
    }
   ],
   "source": [
    "feat_importances = pd.Series(best_model.feature_importances_, index=best_model.feature_names_in_)\n",
    "fig = feat_importances.nlargest(20).plot(kind='barh')\n",
    "fig.update_layout(showlegend=False)\n",
    "fig.show()"
   ]
  },
  {
   "cell_type": "markdown",
   "metadata": {
    "hidden": true
   },
   "source": [
    "### Local interpretation"
   ]
  },
  {
   "cell_type": "markdown",
   "metadata": {},
   "source": [
    "Here we try with a single client"
   ]
  },
  {
   "cell_type": "code",
   "execution_count": 18,
   "metadata": {},
   "outputs": [],
   "source": [
    "explainer = shap.TreeExplainer(best_model)\n",
    "shap_values = explainer.shap_values(sample_test)"
   ]
  },
  {
   "cell_type": "code",
   "execution_count": 26,
   "metadata": {
    "ExecuteTime": {
     "end_time": "2021-10-27T10:31:17.062848Z",
     "start_time": "2021-10-27T10:31:17.031817Z"
    },
    "hidden": true,
    "scrolled": true
   },
   "outputs": [
    {
     "data": {
      "image/png": "[encoded data removed]",
      "text/plain": [
       "<Figure size 2000x300 with 1 Axes>"
      ]
     },
     "metadata": {},
     "output_type": "display_data"
    }
   ],
   "source": [
    "# shap.initjs()\n",
    "shap.force_plot(explainer.expected_value[1], shap_values[1][0], feature_names=sample_test.columns, matplotlib=True)\n",
    "plt.show()"
   ]
  },
  {
   "cell_type": "code",
   "execution_count": 28,
   "metadata": {
    "ExecuteTime": {
     "end_time": "2021-10-16T19:21:52.007667Z",
     "start_time": "2021-10-16T19:21:51.469177Z"
    },
    "hidden": true
   },
   "outputs": [
    {
     "data": {
      "image/png": "[encoded data removed]",
      "text/plain": [
       "<Figure size 800x650 with 3 Axes>"
      ]
     },
     "metadata": {},
     "output_type": "display_data"
    }
   ],
   "source": [
    "shap.plots._waterfall.waterfall_legacy(explainer.expected_value[1], shap_values[1][0], feature_names=sample_test.columns)"
   ]
  }
 ],
 "metadata": {
  "accelerator": "GPU",
  "colab": {
   "collapsed_sections": [
    "XoDDIRubNMn4"
   ],
   "name": "P7.ipynb",
   "provenance": []
  },
  "interpreter": {
   "hash": "a0c1f997f35f16d7fb3c42bc48bd70c4952064283339a5f4871f37a23bc8afba"
  },
  "kernelspec": {
   "display_name": "dl-venv",
   "language": "python",
   "name": "dl-venv"
  },
  "language_info": {
   "codemirror_mode": {
    "name": "ipython",
    "version": 3
   },
   "file_extension": ".py",
   "mimetype": "text/x-python",
   "name": "python",
   "nbconvert_exporter": "python",
   "pygments_lexer": "ipython3",
   "version": "3.8.10"
  },
  "toc": {
   "base_numbering": 1,
   "nav_menu": {},
   "number_sections": true,
   "sideBar": true,
   "skip_h1_title": false,
   "title_cell": "Table of Contents",
   "title_sidebar": "Contents",
   "toc_cell": false,
   "toc_position": {
    "height": "calc(100% - 180px)",
    "left": "10px",
    "top": "150px",
    "width": "300px"
   },
   "toc_section_display": true,
   "toc_window_display": false
  }
 },
 "nbformat": 4,
 "nbformat_minor": 4
}
